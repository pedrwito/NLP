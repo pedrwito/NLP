{
 "cells": [
  {
   "cell_type": "markdown",
   "id": "27f8b0a2",
   "metadata": {},
   "source": [
    "# Pedro Barrera a1801 - desafio 2"
   ]
  },
  {
   "cell_type": "markdown",
   "id": "64f52f27",
   "metadata": {},
   "source": [
    "## Consigna:\n",
    "- Crear sus propios vectores con Gensim basado en lo visto en clase con otro dataset.\n",
    "- Probar términos de interés y explicar similitudes en el espacio de embeddings (sacar conclusiones entre palabras similitudes y diferencias).\n",
    "- Graficarlos.\n",
    "- Obtener conclusiones."
   ]
  },
  {
   "cell_type": "code",
   "execution_count": null,
   "id": "057eee8c",
   "metadata": {},
   "outputs": [],
   "source": [
    "# Imports y setup (siguiendo tu estilo)\n",
    "import os\n",
    "import pandas as pd\n",
    "import numpy as np\n",
    "import matplotlib.pyplot as plt\n",
    "import seaborn as sns\n",
    "\n",
    "from gensim.models import Word2Vec\n",
    "from gensim.models.callbacks import CallbackAny2Vec\n",
    "from tensorflow.keras.preprocessing.text import text_to_word_sequence"
   ]
  },
  {
   "cell_type": "markdown",
   "id": "71f3b803",
   "metadata": {},
   "source": [
    "## Preprocesamiento y entrenamiento"
   ]
  },
  {
   "cell_type": "code",
   "execution_count": 15,
   "id": "d24d2dfa",
   "metadata": {},
   "outputs": [
    {
     "data": {
      "text/plain": [
       "['prince.txt',\n",
       " 'dickinson.txt',\n",
       " 'notorious-big.txt',\n",
       " 'beatles.txt',\n",
       " 'bob-dylan.txt',\n",
       " 'bjork.txt',\n",
       " 'johnny-cash.txt',\n",
       " 'disney.txt',\n",
       " 'janisjoplin.txt',\n",
       " 'kanye.txt',\n",
       " 'bob-marley.txt',\n",
       " 'leonard-cohen.txt',\n",
       " 'ludacris.txt',\n",
       " 'adele.txt',\n",
       " 'alicia-keys.txt',\n",
       " 'joni-mitchell.txt',\n",
       " 'amy-winehouse.txt',\n",
       " 'lorde.txt',\n",
       " 'rihanna.txt',\n",
       " 'Kanye_West.txt',\n",
       " 'nirvana.txt',\n",
       " 'cake.txt',\n",
       " 'bieber.txt',\n",
       " 'notorious_big.txt',\n",
       " 'missy-elliott.txt',\n",
       " 'dolly-parton.txt',\n",
       " 'jimi-hendrix.txt',\n",
       " 'michael-jackson.txt',\n",
       " 'al-green.txt',\n",
       " 'lil-wayne.txt',\n",
       " 'lady-gaga.txt',\n",
       " 'lin-manuel-miranda.txt',\n",
       " 'nursery_rhymes.txt',\n",
       " 'dj-khaled.txt',\n",
       " 'radiohead.txt',\n",
       " 'patti-smith.txt',\n",
       " 'blink-182.txt',\n",
       " 'Lil_Wayne.txt',\n",
       " 'dr-seuss.txt',\n",
       " 'r-kelly.txt',\n",
       " 'drake.txt',\n",
       " 'britney-spears.txt',\n",
       " 'bruce-springsteen.txt',\n",
       " 'nicki-minaj.txt',\n",
       " 'kanye-west.txt',\n",
       " 'paul-simon.txt',\n",
       " 'nickelback.txt',\n",
       " 'eminem.txt',\n",
       " 'bruno-mars.txt']"
      ]
     },
     "execution_count": 15,
     "metadata": {},
     "output_type": "execute_result"
    }
   ],
   "source": [
    "# Posibles bandas\n",
    "os.listdir(\"datasets/songs_dataset/\")"
   ]
  },
  {
   "cell_type": "code",
   "execution_count": 16,
   "id": "39e212d3",
   "metadata": {},
   "outputs": [
    {
     "name": "stderr",
     "output_type": "stream",
     "text": [
      "/var/folders/59/3hrwl3sd44b60yzl315r04rm0000gn/T/ipykernel_89573/1087124801.py:2: ParserWarning: Falling back to the 'python' engine because the 'c' engine does not support regex separators (separators > 1 char and different from '\\s+' are interpreted as regex); you can avoid this warning by specifying engine='python'.\n",
      "  df = pd.read_csv('datasets/songs_dataset/bob-dylan.txt', sep='/n', header=None)\n"
     ]
    },
    {
     "data": {
      "text/html": [
       "<div>\n",
       "<style scoped>\n",
       "    .dataframe tbody tr th:only-of-type {\n",
       "        vertical-align: middle;\n",
       "    }\n",
       "\n",
       "    .dataframe tbody tr th {\n",
       "        vertical-align: top;\n",
       "    }\n",
       "\n",
       "    .dataframe thead th {\n",
       "        text-align: right;\n",
       "    }\n",
       "</style>\n",
       "<table border=\"1\" class=\"dataframe\">\n",
       "  <thead>\n",
       "    <tr style=\"text-align: right;\">\n",
       "      <th></th>\n",
       "      <th>0</th>\n",
       "    </tr>\n",
       "  </thead>\n",
       "  <tbody>\n",
       "    <tr>\n",
       "      <th>0</th>\n",
       "      <td>“There must be some way out of here,” said the...</td>\n",
       "    </tr>\n",
       "    <tr>\n",
       "      <th>1</th>\n",
       "      <td>“There’s too much confusion, I can’t get no re...</td>\n",
       "    </tr>\n",
       "    <tr>\n",
       "      <th>2</th>\n",
       "      <td>Businessmen, they drink my wine, plowmen dig m...</td>\n",
       "    </tr>\n",
       "    <tr>\n",
       "      <th>3</th>\n",
       "      <td>None of them along the line know what any of i...</td>\n",
       "    </tr>\n",
       "    <tr>\n",
       "      <th>4</th>\n",
       "      <td>“No reason to get excited,” the thief, he kind...</td>\n",
       "    </tr>\n",
       "  </tbody>\n",
       "</table>\n",
       "</div>"
      ],
      "text/plain": [
       "                                                   0\n",
       "0  “There must be some way out of here,” said the...\n",
       "1  “There’s too much confusion, I can’t get no re...\n",
       "2  Businessmen, they drink my wine, plowmen dig m...\n",
       "3  None of them along the line know what any of i...\n",
       "4  “No reason to get excited,” the thief, he kind..."
      ]
     },
     "execution_count": 16,
     "metadata": {},
     "output_type": "execute_result"
    }
   ],
   "source": [
    "# Armar el dataset utilizando salto de línea para separar las oraciones/docs\n",
    "df = pd.read_csv('datasets/songs_dataset/bob-dylan.txt', sep='/n', header=None)\n",
    "df.head()"
   ]
  },
  {
   "cell_type": "markdown",
   "id": "37ca7b78",
   "metadata": {},
   "source": [
    "Tokenizo los documentos"
   ]
  },
  {
   "cell_type": "code",
   "execution_count": 17,
   "id": "b3e59598",
   "metadata": {},
   "outputs": [
    {
     "data": {
      "text/plain": [
       "[['“there',\n",
       "  'must',\n",
       "  'be',\n",
       "  'some',\n",
       "  'way',\n",
       "  'out',\n",
       "  'of',\n",
       "  'here',\n",
       "  '”',\n",
       "  'said',\n",
       "  'the',\n",
       "  'joker',\n",
       "  'to',\n",
       "  'the',\n",
       "  'thief'],\n",
       " ['“there’s', 'too', 'much', 'confusion', 'i', 'can’t', 'get', 'no', 'relief']]"
      ]
     },
     "execution_count": 17,
     "metadata": {},
     "output_type": "execute_result"
    }
   ],
   "source": [
    "sentence_tokens = []\n",
    "# Recorrer todas las filas y transformar las oraciones\n",
    "# en una secuencia de palabras (en nuestro caso son nuestreos tokens)\n",
    "for _, row in df[:None].iterrows():\n",
    "    sentence_tokens.append(text_to_word_sequence(row[0]))\n",
    "\n",
    "#Ejemplo de salida\n",
    "sentence_tokens[:2]"
   ]
  },
  {
   "cell_type": "code",
   "execution_count": 18,
   "id": "4d22917c",
   "metadata": {},
   "outputs": [],
   "source": [
    "# Callback para poder loss por epoca\n",
    "class callback(CallbackAny2Vec):\n",
    "    \"\"\"\n",
    "    Callback to print loss after each epoch\n",
    "    \"\"\"\n",
    "    def __init__(self):\n",
    "        self.epoch = 0\n",
    "\n",
    "    def on_epoch_end(self, model):\n",
    "        loss = model.get_latest_training_loss()\n",
    "        if self.epoch == 0:\n",
    "            print('Loss after epoch {}: {}'.format(self.epoch, loss))\n",
    "        else:\n",
    "            print('Loss after epoch {}: {}'.format(self.epoch, loss- self.loss_previous_step))\n",
    "        self.epoch += 1\n",
    "        self.loss_previous_step = loss"
   ]
  },
  {
   "cell_type": "code",
   "execution_count": 19,
   "id": "efd62f04",
   "metadata": {},
   "outputs": [],
   "source": [
    "# Crearmos el modelo generador de vectores como vimos en la clase, usando Skipgram\n",
    "w2v_model = Word2Vec(min_count=5,    # frecuencia mínima de palabra para incluirla en el vocabulario\n",
    "                     window=2,       # cant de palabras antes y desp de la predicha\n",
    "                     vector_size=300,       # dimensionalidad de los vectores \n",
    "                     negative=20,    # cantidad de negative samples... 0 es no se usa\n",
    "                     workers=1,      # si tienen más cores pueden cambiar este valor\n",
    "                     sg=1)           # modelo 0:CBOW  1:skipgram"
   ]
  },
  {
   "cell_type": "code",
   "execution_count": 20,
   "id": "213af999",
   "metadata": {},
   "outputs": [
    {
     "name": "stdout",
     "output_type": "stream",
     "text": [
      "Cantidad de docs en el corpus: 5213\n",
      "Cantidad de words distintas en el corpus: 948\n"
     ]
    }
   ],
   "source": [
    "#Construmos el vocabulario\n",
    "w2v_model.build_vocab(sentence_tokens)\n",
    "print(\"Cantidad de docs en el corpus:\", w2v_model.corpus_count)\n",
    "print(\"Cantidad de words distintas en el corpus:\", len(w2v_model.wv.index_to_key))"
   ]
  },
  {
   "cell_type": "code",
   "execution_count": 21,
   "id": "15800fc1",
   "metadata": {},
   "outputs": [
    {
     "name": "stdout",
     "output_type": "stream",
     "text": [
      "Loss after epoch 0: 291879.03125\n",
      "Loss after epoch 1: 186107.6875\n",
      "Loss after epoch 2: 190404.53125\n",
      "Loss after epoch 3: 188903.0625\n",
      "Loss after epoch 4: 189508.625\n",
      "Loss after epoch 5: 161680.8125\n",
      "Loss after epoch 6: 160562.875\n",
      "Loss after epoch 7: 157756.75\n",
      "Loss after epoch 8: 155807.875\n",
      "Loss after epoch 9: 152405.875\n",
      "Loss after epoch 10: 151594.0\n",
      "Loss after epoch 11: 144523.125\n",
      "Loss after epoch 12: 129787.75\n",
      "Loss after epoch 13: 127296.75\n",
      "Loss after epoch 14: 126569.5\n",
      "Loss after epoch 15: 126077.5\n",
      "Loss after epoch 16: 126191.25\n",
      "Loss after epoch 17: 126207.0\n",
      "Loss after epoch 18: 123475.25\n",
      "Loss after epoch 19: 126597.75\n"
     ]
    },
    {
     "data": {
      "text/plain": [
       "(443235, 768300)"
      ]
     },
     "execution_count": 21,
     "metadata": {},
     "output_type": "execute_result"
    }
   ],
   "source": [
    "# Entrenamos el modelo generador de vectores como vimos en clase con el callback \n",
    "w2v_model.train(sentence_tokens,\n",
    "                 total_examples=w2v_model.corpus_count,\n",
    "                 epochs=20,\n",
    "                 compute_loss = True,\n",
    "                 callbacks=[callback()]\n",
    "                 )"
   ]
  },
  {
   "cell_type": "markdown",
   "id": "550f182e",
   "metadata": {},
   "source": [
    "## Analizo similitudes"
   ]
  },
  {
   "cell_type": "markdown",
   "id": "d071ddea",
   "metadata": {},
   "source": [
    "Imprimo las palabras mas similares a las elegidas"
   ]
  },
  {
   "cell_type": "code",
   "execution_count": null,
   "id": "6a5872c5",
   "metadata": {},
   "outputs": [
    {
     "data": {
      "text/html": [
       "<style type=\"text/css\">\n",
       "#T_e2d76_row0_col0 {\n",
       "  background-color: #081d58;\n",
       "  color: #f1f1f1;\n",
       "}\n",
       "#T_e2d76_row0_col1 {\n",
       "  background-color: #2354a3;\n",
       "  color: #f1f1f1;\n",
       "}\n",
       "#T_e2d76_row0_col2 {\n",
       "  background-color: #3fb4c4;\n",
       "  color: #f1f1f1;\n",
       "}\n",
       "#T_e2d76_row0_col3 {\n",
       "  background-color: #8cd2ba;\n",
       "  color: #000000;\n",
       "}\n",
       "#T_e2d76_row0_col4 {\n",
       "  background-color: #99d7b8;\n",
       "  color: #000000;\n",
       "}\n",
       "#T_e2d76_row0_col5 {\n",
       "  background-color: #eff9b6;\n",
       "  color: #000000;\n",
       "}\n",
       "#T_e2d76_row0_col6 {\n",
       "  background-color: #f4fbc1;\n",
       "  color: #000000;\n",
       "}\n",
       "#T_e2d76_row0_col7 {\n",
       "  background-color: #f6fbc5;\n",
       "  color: #000000;\n",
       "}\n",
       "#T_e2d76_row0_col8, #T_e2d76_row0_col9 {\n",
       "  background-color: #ffffd9;\n",
       "  color: #000000;\n",
       "}\n",
       "</style>\n",
       "<table id=\"T_e2d76\">\n",
       "  <caption>Vecinos de: love</caption>\n",
       "  <thead>\n",
       "    <tr>\n",
       "      <th class=\"blank level0\" >&nbsp;</th>\n",
       "      <th id=\"T_e2d76_level0_col0\" class=\"col_heading level0 col0\" >help</th>\n",
       "      <th id=\"T_e2d76_level0_col1\" class=\"col_heading level0 col1\" >shot</th>\n",
       "      <th id=\"T_e2d76_level0_col2\" class=\"col_heading level0 col2\" >sick</th>\n",
       "      <th id=\"T_e2d76_level0_col3\" class=\"col_heading level0 col3\" >need</th>\n",
       "      <th id=\"T_e2d76_level0_col4\" class=\"col_heading level0 col4\" >isn’t</th>\n",
       "      <th id=\"T_e2d76_level0_col5\" class=\"col_heading level0 col5\" >true</th>\n",
       "      <th id=\"T_e2d76_level0_col6\" class=\"col_heading level0 col6\" >doctor</th>\n",
       "      <th id=\"T_e2d76_level0_col7\" class=\"col_heading level0 col7\" >makes</th>\n",
       "      <th id=\"T_e2d76_level0_col8\" class=\"col_heading level0 col8\" >drink</th>\n",
       "      <th id=\"T_e2d76_level0_col9\" class=\"col_heading level0 col9\" >speaks</th>\n",
       "    </tr>\n",
       "  </thead>\n",
       "  <tbody>\n",
       "    <tr>\n",
       "      <th id=\"T_e2d76_level0_row0\" class=\"row_heading level0 row0\" >cosine_sim</th>\n",
       "      <td id=\"T_e2d76_row0_col0\" class=\"data row0 col0\" >0.773000</td>\n",
       "      <td id=\"T_e2d76_row0_col1\" class=\"data row0 col1\" >0.753000</td>\n",
       "      <td id=\"T_e2d76_row0_col2\" class=\"data row0 col2\" >0.728000</td>\n",
       "      <td id=\"T_e2d76_row0_col3\" class=\"data row0 col3\" >0.714000</td>\n",
       "      <td id=\"T_e2d76_row0_col4\" class=\"data row0 col4\" >0.712000</td>\n",
       "      <td id=\"T_e2d76_row0_col5\" class=\"data row0 col5\" >0.692000</td>\n",
       "      <td id=\"T_e2d76_row0_col6\" class=\"data row0 col6\" >0.689000</td>\n",
       "      <td id=\"T_e2d76_row0_col7\" class=\"data row0 col7\" >0.688000</td>\n",
       "      <td id=\"T_e2d76_row0_col8\" class=\"data row0 col8\" >0.682000</td>\n",
       "      <td id=\"T_e2d76_row0_col9\" class=\"data row0 col9\" >0.682000</td>\n",
       "    </tr>\n",
       "  </tbody>\n",
       "</table>\n"
      ],
      "text/plain": [
       "<pandas.io.formats.style.Styler at 0x318f401f0>"
      ]
     },
     "metadata": {},
     "output_type": "display_data"
    },
    {
     "data": {
      "text/html": [
       "<style type=\"text/css\">\n",
       "#T_e5cf2_row0_col0 {\n",
       "  background-color: #081d58;\n",
       "  color: #f1f1f1;\n",
       "}\n",
       "#T_e5cf2_row0_col1 {\n",
       "  background-color: #1b2c80;\n",
       "  color: #f1f1f1;\n",
       "}\n",
       "#T_e5cf2_row0_col2 {\n",
       "  background-color: #2350a1;\n",
       "  color: #f1f1f1;\n",
       "}\n",
       "#T_e5cf2_row0_col3 {\n",
       "  background-color: #b0e0b6;\n",
       "  color: #000000;\n",
       "}\n",
       "#T_e5cf2_row0_col4, #T_e5cf2_row0_col5 {\n",
       "  background-color: #e1f3b2;\n",
       "  color: #000000;\n",
       "}\n",
       "#T_e5cf2_row0_col6 {\n",
       "  background-color: #f3fabf;\n",
       "  color: #000000;\n",
       "}\n",
       "#T_e5cf2_row0_col7, #T_e5cf2_row0_col8 {\n",
       "  background-color: #f9fdcc;\n",
       "  color: #000000;\n",
       "}\n",
       "#T_e5cf2_row0_col9 {\n",
       "  background-color: #ffffd9;\n",
       "  color: #000000;\n",
       "}\n",
       "</style>\n",
       "<table id=\"T_e5cf2\">\n",
       "  <caption>Vecinos de: night</caption>\n",
       "  <thead>\n",
       "    <tr>\n",
       "      <th class=\"blank level0\" >&nbsp;</th>\n",
       "      <th id=\"T_e5cf2_level0_col0\" class=\"col_heading level0 col0\" >alley</th>\n",
       "      <th id=\"T_e5cf2_level0_col1\" class=\"col_heading level0 col1\" >sun</th>\n",
       "      <th id=\"T_e5cf2_level0_col2\" class=\"col_heading level0 col2\" >daddy’s</th>\n",
       "      <th id=\"T_e5cf2_level0_col3\" class=\"col_heading level0 col3\" >cove</th>\n",
       "      <th id=\"T_e5cf2_level0_col4\" class=\"col_heading level0 col4\" >darkness</th>\n",
       "      <th id=\"T_e5cf2_level0_col5\" class=\"col_heading level0 col5\" >gold</th>\n",
       "      <th id=\"T_e5cf2_level0_col6\" class=\"col_heading level0 col6\" >ancient</th>\n",
       "      <th id=\"T_e5cf2_level0_col7\" class=\"col_heading level0 col7\" >along</th>\n",
       "      <th id=\"T_e5cf2_level0_col8\" class=\"col_heading level0 col8\" >fact’ry</th>\n",
       "      <th id=\"T_e5cf2_level0_col9\" class=\"col_heading level0 col9\" >saving</th>\n",
       "    </tr>\n",
       "  </thead>\n",
       "  <tbody>\n",
       "    <tr>\n",
       "      <th id=\"T_e5cf2_level0_row0\" class=\"row_heading level0 row0\" >cosine_sim</th>\n",
       "      <td id=\"T_e5cf2_row0_col0\" class=\"data row0 col0\" >0.856000</td>\n",
       "      <td id=\"T_e5cf2_row0_col1\" class=\"data row0 col1\" >0.854000</td>\n",
       "      <td id=\"T_e5cf2_row0_col2\" class=\"data row0 col2\" >0.851000</td>\n",
       "      <td id=\"T_e5cf2_row0_col3\" class=\"data row0 col3\" >0.839000</td>\n",
       "      <td id=\"T_e5cf2_row0_col4\" class=\"data row0 col4\" >0.836000</td>\n",
       "      <td id=\"T_e5cf2_row0_col5\" class=\"data row0 col5\" >0.836000</td>\n",
       "      <td id=\"T_e5cf2_row0_col6\" class=\"data row0 col6\" >0.834000</td>\n",
       "      <td id=\"T_e5cf2_row0_col7\" class=\"data row0 col7\" >0.833000</td>\n",
       "      <td id=\"T_e5cf2_row0_col8\" class=\"data row0 col8\" >0.833000</td>\n",
       "      <td id=\"T_e5cf2_row0_col9\" class=\"data row0 col9\" >0.832000</td>\n",
       "    </tr>\n",
       "  </tbody>\n",
       "</table>\n"
      ],
      "text/plain": [
       "<pandas.io.formats.style.Styler at 0x30f13e280>"
      ]
     },
     "metadata": {},
     "output_type": "display_data"
    },
    {
     "data": {
      "text/html": [
       "<style type=\"text/css\">\n",
       "#T_309da_row0_col0 {\n",
       "  background-color: #081d58;\n",
       "  color: #f1f1f1;\n",
       "}\n",
       "#T_309da_row0_col1 {\n",
       "  background-color: #65c3bf;\n",
       "  color: #000000;\n",
       "}\n",
       "#T_309da_row0_col2 {\n",
       "  background-color: #c4e8b4;\n",
       "  color: #000000;\n",
       "}\n",
       "#T_309da_row0_col3, #T_309da_row0_col4 {\n",
       "  background-color: #dbf1b2;\n",
       "  color: #000000;\n",
       "}\n",
       "#T_309da_row0_col5 {\n",
       "  background-color: #e3f4b2;\n",
       "  color: #000000;\n",
       "}\n",
       "#T_309da_row0_col6 {\n",
       "  background-color: #f5fbc2;\n",
       "  color: #000000;\n",
       "}\n",
       "#T_309da_row0_col7 {\n",
       "  background-color: #f7fcc7;\n",
       "  color: #000000;\n",
       "}\n",
       "#T_309da_row0_col8, #T_309da_row0_col9 {\n",
       "  background-color: #ffffd9;\n",
       "  color: #000000;\n",
       "}\n",
       "</style>\n",
       "<table id=\"T_309da\">\n",
       "  <caption>Vecinos de: woman</caption>\n",
       "  <thead>\n",
       "    <tr>\n",
       "      <th class=\"blank level0\" >&nbsp;</th>\n",
       "      <th id=\"T_309da_level0_col0\" class=\"col_heading level0 col0\" >takes</th>\n",
       "      <th id=\"T_309da_level0_col1\" class=\"col_heading level0 col1\" >letter</th>\n",
       "      <th id=\"T_309da_level0_col2\" class=\"col_heading level0 col2\" >unknown</th>\n",
       "      <th id=\"T_309da_level0_col3\" class=\"col_heading level0 col3\" >speaks</th>\n",
       "      <th id=\"T_309da_level0_col4\" class=\"col_heading level0 col4\" >seems</th>\n",
       "      <th id=\"T_309da_level0_col5\" class=\"col_heading level0 col5\" >dream</th>\n",
       "      <th id=\"T_309da_level0_col6\" class=\"col_heading level0 col6\" >fell</th>\n",
       "      <th id=\"T_309da_level0_col7\" class=\"col_heading level0 col7\" >girl</th>\n",
       "      <th id=\"T_309da_level0_col8\" class=\"col_heading level0 col8\" >walkin'</th>\n",
       "      <th id=\"T_309da_level0_col9\" class=\"col_heading level0 col9\" >yes</th>\n",
       "    </tr>\n",
       "  </thead>\n",
       "  <tbody>\n",
       "    <tr>\n",
       "      <th id=\"T_309da_level0_row0\" class=\"row_heading level0 row0\" >cosine_sim</th>\n",
       "      <td id=\"T_309da_row0_col0\" class=\"data row0 col0\" >0.844000</td>\n",
       "      <td id=\"T_309da_row0_col1\" class=\"data row0 col1\" >0.804000</td>\n",
       "      <td id=\"T_309da_row0_col2\" class=\"data row0 col2\" >0.792000</td>\n",
       "      <td id=\"T_309da_row0_col3\" class=\"data row0 col3\" >0.787000</td>\n",
       "      <td id=\"T_309da_row0_col4\" class=\"data row0 col4\" >0.787000</td>\n",
       "      <td id=\"T_309da_row0_col5\" class=\"data row0 col5\" >0.785000</td>\n",
       "      <td id=\"T_309da_row0_col6\" class=\"data row0 col6\" >0.779000</td>\n",
       "      <td id=\"T_309da_row0_col7\" class=\"data row0 col7\" >0.778000</td>\n",
       "      <td id=\"T_309da_row0_col8\" class=\"data row0 col8\" >0.774000</td>\n",
       "      <td id=\"T_309da_row0_col9\" class=\"data row0 col9\" >0.774000</td>\n",
       "    </tr>\n",
       "  </tbody>\n",
       "</table>\n"
      ],
      "text/plain": [
       "<pandas.io.formats.style.Styler at 0x31ab75370>"
      ]
     },
     "metadata": {},
     "output_type": "display_data"
    },
    {
     "data": {
      "text/html": [
       "<style type=\"text/css\">\n",
       "#T_c70f7_row0_col0 {\n",
       "  background-color: #081d58;\n",
       "  color: #f1f1f1;\n",
       "}\n",
       "#T_c70f7_row0_col1 {\n",
       "  background-color: #23499e;\n",
       "  color: #f1f1f1;\n",
       "}\n",
       "#T_c70f7_row0_col2 {\n",
       "  background-color: #2351a2;\n",
       "  color: #f1f1f1;\n",
       "}\n",
       "#T_c70f7_row0_col3 {\n",
       "  background-color: #2073b2;\n",
       "  color: #f1f1f1;\n",
       "}\n",
       "#T_c70f7_row0_col4 {\n",
       "  background-color: #40b5c4;\n",
       "  color: #f1f1f1;\n",
       "}\n",
       "#T_c70f7_row0_col5 {\n",
       "  background-color: #65c3bf;\n",
       "  color: #000000;\n",
       "}\n",
       "#T_c70f7_row0_col6 {\n",
       "  background-color: #a9ddb7;\n",
       "  color: #000000;\n",
       "}\n",
       "#T_c70f7_row0_col7 {\n",
       "  background-color: #edf8b1;\n",
       "  color: #000000;\n",
       "}\n",
       "#T_c70f7_row0_col8 {\n",
       "  background-color: #feffd6;\n",
       "  color: #000000;\n",
       "}\n",
       "#T_c70f7_row0_col9 {\n",
       "  background-color: #ffffd9;\n",
       "  color: #000000;\n",
       "}\n",
       "</style>\n",
       "<table id=\"T_c70f7\">\n",
       "  <caption>Vecinos de: man</caption>\n",
       "  <thead>\n",
       "    <tr>\n",
       "      <th class=\"blank level0\" >&nbsp;</th>\n",
       "      <th id=\"T_c70f7_level0_col0\" class=\"col_heading level0 col0\" >hey</th>\n",
       "      <th id=\"T_c70f7_level0_col1\" class=\"col_heading level0 col1\" >mr</th>\n",
       "      <th id=\"T_c70f7_level0_col2\" class=\"col_heading level0 col2\" >song</th>\n",
       "      <th id=\"T_c70f7_level0_col3\" class=\"col_heading level0 col3\" >tambourine</th>\n",
       "      <th id=\"T_c70f7_level0_col4\" class=\"col_heading level0 col4\" >play</th>\n",
       "      <th id=\"T_c70f7_level0_col5\" class=\"col_heading level0 col5\" >names</th>\n",
       "      <th id=\"T_c70f7_level0_col6\" class=\"col_heading level0 col6\" >gave</th>\n",
       "      <th id=\"T_c70f7_level0_col7\" class=\"col_heading level0 col7\" >years</th>\n",
       "      <th id=\"T_c70f7_level0_col8\" class=\"col_heading level0 col8\" >sees</th>\n",
       "      <th id=\"T_c70f7_level0_col9\" class=\"col_heading level0 col9\" >ev’ry</th>\n",
       "    </tr>\n",
       "  </thead>\n",
       "  <tbody>\n",
       "    <tr>\n",
       "      <th id=\"T_c70f7_level0_row0\" class=\"row_heading level0 row0\" >cosine_sim</th>\n",
       "      <td id=\"T_c70f7_row0_col0\" class=\"data row0 col0\" >0.824000</td>\n",
       "      <td id=\"T_c70f7_row0_col1\" class=\"data row0 col1\" >0.791000</td>\n",
       "      <td id=\"T_c70f7_row0_col2\" class=\"data row0 col2\" >0.787000</td>\n",
       "      <td id=\"T_c70f7_row0_col3\" class=\"data row0 col3\" >0.771000</td>\n",
       "      <td id=\"T_c70f7_row0_col4\" class=\"data row0 col4\" >0.737000</td>\n",
       "      <td id=\"T_c70f7_row0_col5\" class=\"data row0 col5\" >0.724000</td>\n",
       "      <td id=\"T_c70f7_row0_col6\" class=\"data row0 col6\" >0.702000</td>\n",
       "      <td id=\"T_c70f7_row0_col7\" class=\"data row0 col7\" >0.671000</td>\n",
       "      <td id=\"T_c70f7_row0_col8\" class=\"data row0 col8\" >0.651000</td>\n",
       "      <td id=\"T_c70f7_row0_col9\" class=\"data row0 col9\" >0.649000</td>\n",
       "    </tr>\n",
       "  </tbody>\n",
       "</table>\n"
      ],
      "text/plain": [
       "<pandas.io.formats.style.Styler at 0x31adf9d60>"
      ]
     },
     "metadata": {},
     "output_type": "display_data"
    },
    {
     "data": {
      "text/html": [
       "<style type=\"text/css\">\n",
       "#T_a3b7d_row0_col0 {\n",
       "  background-color: #081d58;\n",
       "  color: #f1f1f1;\n",
       "}\n",
       "#T_a3b7d_row0_col1 {\n",
       "  background-color: #53bdc1;\n",
       "  color: #000000;\n",
       "}\n",
       "#T_a3b7d_row0_col2 {\n",
       "  background-color: #7acbbc;\n",
       "  color: #000000;\n",
       "}\n",
       "#T_a3b7d_row0_col3, #T_a3b7d_row0_col4 {\n",
       "  background-color: #a7dcb7;\n",
       "  color: #000000;\n",
       "}\n",
       "#T_a3b7d_row0_col5, #T_a3b7d_row0_col6, #T_a3b7d_row0_col7 {\n",
       "  background-color: #cdebb4;\n",
       "  color: #000000;\n",
       "}\n",
       "#T_a3b7d_row0_col8 {\n",
       "  background-color: #f4fbc1;\n",
       "  color: #000000;\n",
       "}\n",
       "#T_a3b7d_row0_col9 {\n",
       "  background-color: #ffffd9;\n",
       "  color: #000000;\n",
       "}\n",
       "</style>\n",
       "<table id=\"T_a3b7d\">\n",
       "  <caption>Vecinos de: truth</caption>\n",
       "  <thead>\n",
       "    <tr>\n",
       "      <th class=\"blank level0\" >&nbsp;</th>\n",
       "      <th id=\"T_a3b7d_level0_col0\" class=\"col_heading level0 col0\" >glow</th>\n",
       "      <th id=\"T_a3b7d_level0_col1\" class=\"col_heading level0 col1\" >warm</th>\n",
       "      <th id=\"T_a3b7d_level0_col2\" class=\"col_heading level0 col2\" >fears</th>\n",
       "      <th id=\"T_a3b7d_level0_col3\" class=\"col_heading level0 col3\" >lenny</th>\n",
       "      <th id=\"T_a3b7d_level0_col4\" class=\"col_heading level0 col4\" >second</th>\n",
       "      <th id=\"T_a3b7d_level0_col5\" class=\"col_heading level0 col5\" >word</th>\n",
       "      <th id=\"T_a3b7d_level0_col6\" class=\"col_heading level0 col6\" >grass</th>\n",
       "      <th id=\"T_a3b7d_level0_col7\" class=\"col_heading level0 col7\" >moment</th>\n",
       "      <th id=\"T_a3b7d_level0_col8\" class=\"col_heading level0 col8\" >worse</th>\n",
       "      <th id=\"T_a3b7d_level0_col9\" class=\"col_heading level0 col9\" >false</th>\n",
       "    </tr>\n",
       "  </thead>\n",
       "  <tbody>\n",
       "    <tr>\n",
       "      <th id=\"T_a3b7d_level0_row0\" class=\"row_heading level0 row0\" >cosine_sim</th>\n",
       "      <td id=\"T_a3b7d_row0_col0\" class=\"data row0 col0\" >0.968000</td>\n",
       "      <td id=\"T_a3b7d_row0_col1\" class=\"data row0 col1\" >0.961000</td>\n",
       "      <td id=\"T_a3b7d_row0_col2\" class=\"data row0 col2\" >0.960000</td>\n",
       "      <td id=\"T_a3b7d_row0_col3\" class=\"data row0 col3\" >0.959000</td>\n",
       "      <td id=\"T_a3b7d_row0_col4\" class=\"data row0 col4\" >0.959000</td>\n",
       "      <td id=\"T_a3b7d_row0_col5\" class=\"data row0 col5\" >0.958000</td>\n",
       "      <td id=\"T_a3b7d_row0_col6\" class=\"data row0 col6\" >0.958000</td>\n",
       "      <td id=\"T_a3b7d_row0_col7\" class=\"data row0 col7\" >0.958000</td>\n",
       "      <td id=\"T_a3b7d_row0_col8\" class=\"data row0 col8\" >0.956000</td>\n",
       "      <td id=\"T_a3b7d_row0_col9\" class=\"data row0 col9\" >0.955000</td>\n",
       "    </tr>\n",
       "  </tbody>\n",
       "</table>\n"
      ],
      "text/plain": [
       "<pandas.io.formats.style.Styler at 0x31adf9df0>"
      ]
     },
     "metadata": {},
     "output_type": "display_data"
    },
    {
     "data": {
      "text/html": [
       "<style type=\"text/css\">\n",
       "#T_b3a56_row0_col0 {\n",
       "  background-color: #081d58;\n",
       "  color: #f1f1f1;\n",
       "}\n",
       "#T_b3a56_row0_col1 {\n",
       "  background-color: #2352a3;\n",
       "  color: #f1f1f1;\n",
       "}\n",
       "#T_b3a56_row0_col2 {\n",
       "  background-color: #95d5b9;\n",
       "  color: #000000;\n",
       "}\n",
       "#T_b3a56_row0_col3 {\n",
       "  background-color: #c2e7b4;\n",
       "  color: #000000;\n",
       "}\n",
       "#T_b3a56_row0_col4 {\n",
       "  background-color: #dbf1b2;\n",
       "  color: #000000;\n",
       "}\n",
       "#T_b3a56_row0_col5 {\n",
       "  background-color: #e9f7b1;\n",
       "  color: #000000;\n",
       "}\n",
       "#T_b3a56_row0_col6 {\n",
       "  background-color: #f2fabc;\n",
       "  color: #000000;\n",
       "}\n",
       "#T_b3a56_row0_col7, #T_b3a56_row0_col8 {\n",
       "  background-color: #fbfdd0;\n",
       "  color: #000000;\n",
       "}\n",
       "#T_b3a56_row0_col9 {\n",
       "  background-color: #ffffd9;\n",
       "  color: #000000;\n",
       "}\n",
       "</style>\n",
       "<table id=\"T_b3a56\">\n",
       "  <caption>Vecinos de: heart</caption>\n",
       "  <thead>\n",
       "    <tr>\n",
       "      <th class=\"blank level0\" >&nbsp;</th>\n",
       "      <th id=\"T_b3a56_level0_col0\" class=\"col_heading level0 col0\" >yearnin'</th>\n",
       "      <th id=\"T_b3a56_level0_col1\" class=\"col_heading level0 col1\" >face</th>\n",
       "      <th id=\"T_b3a56_level0_col2\" class=\"col_heading level0 col2\" >kiss</th>\n",
       "      <th id=\"T_b3a56_level0_col3\" class=\"col_heading level0 col3\" >mouth</th>\n",
       "      <th id=\"T_b3a56_level0_col4\" class=\"col_heading level0 col4\" >soul</th>\n",
       "      <th id=\"T_b3a56_level0_col5\" class=\"col_heading level0 col5\" >deep</th>\n",
       "      <th id=\"T_b3a56_level0_col6\" class=\"col_heading level0 col6\" >burnin'</th>\n",
       "      <th id=\"T_b3a56_level0_col7\" class=\"col_heading level0 col7\" >feet</th>\n",
       "      <th id=\"T_b3a56_level0_col8\" class=\"col_heading level0 col8\" >tongue</th>\n",
       "      <th id=\"T_b3a56_level0_col9\" class=\"col_heading level0 col9\" >happiness</th>\n",
       "    </tr>\n",
       "  </thead>\n",
       "  <tbody>\n",
       "    <tr>\n",
       "      <th id=\"T_b3a56_level0_row0\" class=\"row_heading level0 row0\" >cosine_sim</th>\n",
       "      <td id=\"T_b3a56_row0_col0\" class=\"data row0 col0\" >0.836000</td>\n",
       "      <td id=\"T_b3a56_row0_col1\" class=\"data row0 col1\" >0.822000</td>\n",
       "      <td id=\"T_b3a56_row0_col2\" class=\"data row0 col2\" >0.793000</td>\n",
       "      <td id=\"T_b3a56_row0_col3\" class=\"data row0 col3\" >0.788000</td>\n",
       "      <td id=\"T_b3a56_row0_col4\" class=\"data row0 col4\" >0.783000</td>\n",
       "      <td id=\"T_b3a56_row0_col5\" class=\"data row0 col5\" >0.780000</td>\n",
       "      <td id=\"T_b3a56_row0_col6\" class=\"data row0 col6\" >0.777000</td>\n",
       "      <td id=\"T_b3a56_row0_col7\" class=\"data row0 col7\" >0.773000</td>\n",
       "      <td id=\"T_b3a56_row0_col8\" class=\"data row0 col8\" >0.773000</td>\n",
       "      <td id=\"T_b3a56_row0_col9\" class=\"data row0 col9\" >0.771000</td>\n",
       "    </tr>\n",
       "  </tbody>\n",
       "</table>\n"
      ],
      "text/plain": [
       "<pandas.io.formats.style.Styler at 0x31a9f7df0>"
      ]
     },
     "metadata": {},
     "output_type": "display_data"
    }
   ],
   "source": [
    "#Para imprimir de forma mas clara estos resultados se genero el codigo de manera asistida con inteligencia artificial, usando gpt-5 de openAI\n",
    "#Este fue el prompt, poniendo dentro del contexto el archivo:\n",
    "\n",
    "#prompt: puedes mostrar una forma distinta de imprimir los resultados de similitud con las palabras terms_to_analyze? poniendo por cada palabra tener como columna la similar word y como fila la cosine sim. Pero un cuadro por cada term to analize\n",
    "\n",
    "from IPython.display import display\n",
    "\n",
    "terms_to_analyze = [\"love\", \"night\", \"woman\", \"man\", \"truth\", \"heart\"]\n",
    "\n",
    "def safe_most_similar(model, positive=None, negative=None, topn=5):\n",
    "    try:\n",
    "        return model.wv.most_similar(positive=positive, negative=negative, topn=topn)\n",
    "    except KeyError as e:\n",
    "        print(f\"Token fuera de vocabulario: {e}\")\n",
    "        return []\n",
    "\n",
    "def show_similarity_frames(model, terms, topn=5, precision=3):\n",
    "    frames = {}\n",
    "    for term in terms:\n",
    "        sims = safe_most_similar(model, positive=[term], topn=topn)\n",
    "        if not sims:\n",
    "            print(f\"Sin resultados para: {term}\")\n",
    "            continue\n",
    "        words = [w for w, s in sims]\n",
    "        scores = [s for w, s in sims]\n",
    "        df = pd.DataFrame([scores], index=[\"cosine_sim\"], columns=words).round(precision)\n",
    "        frames[term] = df\n",
    "        display(df.style.set_caption(f\"Vecinos de: {term}\").background_gradient(axis=None, cmap=\"YlGnBu\"))\n",
    "    return frames\n",
    "\n",
    "frames_by_term = show_similarity_frames(w2v_model, terms_to_analyze, topn=10, precision=3)"
   ]
  },
  {
   "cell_type": "markdown",
   "id": "6eb0a369",
   "metadata": {},
   "source": [
    "En “love” las palabras más cercanas dentro del conjunto de las mas similares son heart y woman. Se nota un eje claramente afectivo. Con true mantiene una relacion moderada (más reflexiva que romántica), mientras que con night baja bastante y con man queda lejos. Esto sugiere que “love” para bob dylan gravita sobre lo emocional y se aparta de lo social (como drink, speaks). Otras palabras pueden intuirse aparecen por motivos mas poeticos o metaforicos, como 'sick', con frases comunes en ingles como 'love sick' o 'sick in love'.\n",
    "\n",
    "En “woman” vemos que se lo asocia a lo mas sentimental, con feel, dream y tambien a frases romanticas normales, como letter, que se utiliza mucho en frases como cartas de amor.\n",
    "\n",
    "En “man” se ve una combinacion muy dispar de palabras con significados muy distintos. Aunque Mr aparece cerca, que efectivamente tiene cercania, el resto pareciera ser mas aleatorio e indica que el vector alcanzo una verdadera relacion semantica, sino que fue principalmente afectado por palabras no relacionadas que deben aparecer muy seguido solo por casualdiad de frases comunes.\n",
    "\n",
    "En “night” si se ven palabras mas similares a contextos similares o significados parecidos, como darkness, alley o contrarias como sun. Luego aparecen palabras que suelen verse junto a night en el ambito poetico como ancient o gold.\n",
    "\n",
    "Para truth, tambien hay una mezcla de palabras que pueden tener similitudes en el sentido poetico como warm y fears, indicando que la verdad da miedo pero por otro lado es calida, reconfortante. \n",
    "\n",
    "En “heart” se ven muchas palabras relacionadas a lo afectivo a romantico, viendo que se le da un sentido semantico mas simialr a su acepcion figurada relacionado al centro del amor (el corazon) y no tanto al organo, algo que tiene mucho sentido considerando que se generaron los vectores con letras de canciones y el tinte romantico suele primar en estas.\n",
    "\n",
    "En resumen, puede verse que al entrenarse con canciones, y mas especificamente de bob dylan que utiliza muchos recursos poeticos, prima en las similitudes mas el sentido figurado poetico y profundo, mas hacia las emocioens que una palabra evoca o expresiones poeticas que ladefinicion extricta de la palabra."
   ]
  },
  {
   "cell_type": "markdown",
   "id": "2fb671cc",
   "metadata": {},
   "source": [
    "Pruebo algunos tambien por la negativa"
   ]
  },
  {
   "cell_type": "code",
   "execution_count": null,
   "id": "a7c900f7",
   "metadata": {},
   "outputs": [
    {
     "data": {
      "text/plain": [
       "[('at', -0.151947483420372),\n",
       " ('high', -0.17393489181995392),\n",
       " ('around', -0.17714862525463104),\n",
       " ('are', -0.19808731973171234),\n",
       " ('joey', -0.20210276544094086),\n",
       " ('let', -0.21197858452796936),\n",
       " ('when', -0.21626387536525726),\n",
       " ('door', -0.22052891552448273),\n",
       " ('there', -0.22899527847766876),\n",
       " ('they', -0.23069611191749573)]"
      ]
     },
     "execution_count": 44,
     "metadata": {},
     "output_type": "execute_result"
    }
   ],
   "source": [
    "w2v_model.wv.most_similar(negative=[\"love\"], topn=10)"
   ]
  },
  {
   "cell_type": "markdown",
   "id": "89fe664d",
   "metadata": {},
   "source": [
    "Pruebo combinaciones vectoriales"
   ]
  },
  {
   "cell_type": "code",
   "execution_count": 49,
   "id": "5d5b0b38",
   "metadata": {},
   "outputs": [
    {
     "data": {
      "text/html": [
       "<style type=\"text/css\">\n",
       "#T_6785e_row0_col0 {\n",
       "  background-color: #081d58;\n",
       "  color: #f1f1f1;\n",
       "}\n",
       "#T_6785e_row0_col1 {\n",
       "  background-color: #11246b;\n",
       "  color: #f1f1f1;\n",
       "}\n",
       "#T_6785e_row0_col2 {\n",
       "  background-color: #216aad;\n",
       "  color: #f1f1f1;\n",
       "}\n",
       "#T_6785e_row0_col3 {\n",
       "  background-color: #3bb0c3;\n",
       "  color: #f1f1f1;\n",
       "}\n",
       "#T_6785e_row0_col4, #T_6785e_row0_col5 {\n",
       "  background-color: #87d0ba;\n",
       "  color: #000000;\n",
       "}\n",
       "#T_6785e_row0_col6 {\n",
       "  background-color: #e3f4b2;\n",
       "  color: #000000;\n",
       "}\n",
       "#T_6785e_row0_col7, #T_6785e_row0_col8 {\n",
       "  background-color: #eef8b3;\n",
       "  color: #000000;\n",
       "}\n",
       "#T_6785e_row0_col9 {\n",
       "  background-color: #ffffd9;\n",
       "  color: #000000;\n",
       "}\n",
       "</style>\n",
       "<table id=\"T_6785e\">\n",
       "  <caption>Vecinos de: woman + love + man</caption>\n",
       "  <thead>\n",
       "    <tr>\n",
       "      <th class=\"blank level0\" >&nbsp;</th>\n",
       "      <th id=\"T_6785e_level0_col0\" class=\"col_heading level0 col0\" >letter</th>\n",
       "      <th id=\"T_6785e_level0_col1\" class=\"col_heading level0 col1\" >takes</th>\n",
       "      <th id=\"T_6785e_level0_col2\" class=\"col_heading level0 col2\" >smile</th>\n",
       "      <th id=\"T_6785e_level0_col3\" class=\"col_heading level0 col3\" >sound</th>\n",
       "      <th id=\"T_6785e_level0_col4\" class=\"col_heading level0 col4\" >ghost</th>\n",
       "      <th id=\"T_6785e_level0_col5\" class=\"col_heading level0 col5\" >unknown</th>\n",
       "      <th id=\"T_6785e_level0_col6\" class=\"col_heading level0 col6\" >speaks</th>\n",
       "      <th id=\"T_6785e_level0_col7\" class=\"col_heading level0 col7\" >chance</th>\n",
       "      <th id=\"T_6785e_level0_col8\" class=\"col_heading level0 col8\" >breath</th>\n",
       "      <th id=\"T_6785e_level0_col9\" class=\"col_heading level0 col9\" >voice</th>\n",
       "    </tr>\n",
       "  </thead>\n",
       "  <tbody>\n",
       "    <tr>\n",
       "      <th id=\"T_6785e_level0_row0\" class=\"row_heading level0 row0\" >cosine_sim</th>\n",
       "      <td id=\"T_6785e_row0_col0\" class=\"data row0 col0\" >0.831000</td>\n",
       "      <td id=\"T_6785e_row0_col1\" class=\"data row0 col1\" >0.830000</td>\n",
       "      <td id=\"T_6785e_row0_col2\" class=\"data row0 col2\" >0.824000</td>\n",
       "      <td id=\"T_6785e_row0_col3\" class=\"data row0 col3\" >0.819000</td>\n",
       "      <td id=\"T_6785e_row0_col4\" class=\"data row0 col4\" >0.815000</td>\n",
       "      <td id=\"T_6785e_row0_col5\" class=\"data row0 col5\" >0.815000</td>\n",
       "      <td id=\"T_6785e_row0_col6\" class=\"data row0 col6\" >0.810000</td>\n",
       "      <td id=\"T_6785e_row0_col7\" class=\"data row0 col7\" >0.809000</td>\n",
       "      <td id=\"T_6785e_row0_col8\" class=\"data row0 col8\" >0.809000</td>\n",
       "      <td id=\"T_6785e_row0_col9\" class=\"data row0 col9\" >0.806000</td>\n",
       "    </tr>\n",
       "  </tbody>\n",
       "</table>\n"
      ],
      "text/plain": [
       "<pandas.io.formats.style.Styler at 0x31a9f73d0>"
      ]
     },
     "metadata": {},
     "output_type": "display_data"
    },
    {
     "data": {
      "text/html": [
       "<style type=\"text/css\">\n",
       "#T_11d19_row0_col0 {\n",
       "  background-color: #081d58;\n",
       "  color: #f1f1f1;\n",
       "}\n",
       "#T_11d19_row0_col1 {\n",
       "  background-color: #234b9f;\n",
       "  color: #f1f1f1;\n",
       "}\n",
       "#T_11d19_row0_col2 {\n",
       "  background-color: #216aad;\n",
       "  color: #f1f1f1;\n",
       "}\n",
       "#T_11d19_row0_col3 {\n",
       "  background-color: #b7e3b6;\n",
       "  color: #000000;\n",
       "}\n",
       "#T_11d19_row0_col4 {\n",
       "  background-color: #d0edb3;\n",
       "  color: #000000;\n",
       "}\n",
       "#T_11d19_row0_col5, #T_11d19_row0_col6 {\n",
       "  background-color: #f7fcc7;\n",
       "  color: #000000;\n",
       "}\n",
       "#T_11d19_row0_col7 {\n",
       "  background-color: #fbfdd0;\n",
       "  color: #000000;\n",
       "}\n",
       "#T_11d19_row0_col8, #T_11d19_row0_col9 {\n",
       "  background-color: #ffffd9;\n",
       "  color: #000000;\n",
       "}\n",
       "</style>\n",
       "<table id=\"T_11d19\">\n",
       "  <caption>Vecinos de: woman + man</caption>\n",
       "  <thead>\n",
       "    <tr>\n",
       "      <th class=\"blank level0\" >&nbsp;</th>\n",
       "      <th id=\"T_11d19_level0_col0\" class=\"col_heading level0 col0\" >song</th>\n",
       "      <th id=\"T_11d19_level0_col1\" class=\"col_heading level0 col1\" >hey</th>\n",
       "      <th id=\"T_11d19_level0_col2\" class=\"col_heading level0 col2\" >letter</th>\n",
       "      <th id=\"T_11d19_level0_col3\" class=\"col_heading level0 col3\" >takes</th>\n",
       "      <th id=\"T_11d19_level0_col4\" class=\"col_heading level0 col4\" >ghost</th>\n",
       "      <th id=\"T_11d19_level0_col5\" class=\"col_heading level0 col5\" >sound</th>\n",
       "      <th id=\"T_11d19_level0_col6\" class=\"col_heading level0 col6\" >smile</th>\n",
       "      <th id=\"T_11d19_level0_col7\" class=\"col_heading level0 col7\" >chance</th>\n",
       "      <th id=\"T_11d19_level0_col8\" class=\"col_heading level0 col8\" >such</th>\n",
       "      <th id=\"T_11d19_level0_col9\" class=\"col_heading level0 col9\" >voice</th>\n",
       "    </tr>\n",
       "  </thead>\n",
       "  <tbody>\n",
       "    <tr>\n",
       "      <th id=\"T_11d19_level0_row0\" class=\"row_heading level0 row0\" >cosine_sim</th>\n",
       "      <td id=\"T_11d19_row0_col0\" class=\"data row0 col0\" >0.816000</td>\n",
       "      <td id=\"T_11d19_row0_col1\" class=\"data row0 col1\" >0.809000</td>\n",
       "      <td id=\"T_11d19_row0_col2\" class=\"data row0 col2\" >0.806000</td>\n",
       "      <td id=\"T_11d19_row0_col3\" class=\"data row0 col3\" >0.790000</td>\n",
       "      <td id=\"T_11d19_row0_col4\" class=\"data row0 col4\" >0.788000</td>\n",
       "      <td id=\"T_11d19_row0_col5\" class=\"data row0 col5\" >0.782000</td>\n",
       "      <td id=\"T_11d19_row0_col6\" class=\"data row0 col6\" >0.782000</td>\n",
       "      <td id=\"T_11d19_row0_col7\" class=\"data row0 col7\" >0.781000</td>\n",
       "      <td id=\"T_11d19_row0_col8\" class=\"data row0 col8\" >0.780000</td>\n",
       "      <td id=\"T_11d19_row0_col9\" class=\"data row0 col9\" >0.780000</td>\n",
       "    </tr>\n",
       "  </tbody>\n",
       "</table>\n"
      ],
      "text/plain": [
       "<pandas.io.formats.style.Styler at 0x31adf9df0>"
      ]
     },
     "metadata": {},
     "output_type": "display_data"
    },
    {
     "data": {
      "text/html": [
       "<style type=\"text/css\">\n",
       "#T_189be_row0_col0 {\n",
       "  background-color: #081d58;\n",
       "  color: #f1f1f1;\n",
       "}\n",
       "#T_189be_row0_col1, #T_189be_row0_col2 {\n",
       "  background-color: #40b5c4;\n",
       "  color: #f1f1f1;\n",
       "}\n",
       "#T_189be_row0_col3 {\n",
       "  background-color: #6fc7bd;\n",
       "  color: #000000;\n",
       "}\n",
       "#T_189be_row0_col4 {\n",
       "  background-color: #a2dbb8;\n",
       "  color: #000000;\n",
       "}\n",
       "#T_189be_row0_col5 {\n",
       "  background-color: #c6e9b4;\n",
       "  color: #000000;\n",
       "}\n",
       "#T_189be_row0_col6, #T_189be_row0_col7, #T_189be_row0_col8 {\n",
       "  background-color: #e3f4b2;\n",
       "  color: #000000;\n",
       "}\n",
       "#T_189be_row0_col9 {\n",
       "  background-color: #ffffd9;\n",
       "  color: #000000;\n",
       "}\n",
       "</style>\n",
       "<table id=\"T_189be\">\n",
       "  <caption>Vecinos de: clouds + water</caption>\n",
       "  <thead>\n",
       "    <tr>\n",
       "      <th class=\"blank level0\" >&nbsp;</th>\n",
       "      <th id=\"T_189be_level0_col0\" class=\"col_heading level0 col0\" >everywhere</th>\n",
       "      <th id=\"T_189be_level0_col1\" class=\"col_heading level0 col1\" >storms</th>\n",
       "      <th id=\"T_189be_level0_col2\" class=\"col_heading level0 col2\" >rollin’</th>\n",
       "      <th id=\"T_189be_level0_col3\" class=\"col_heading level0 col3\" >sea</th>\n",
       "      <th id=\"T_189be_level0_col4\" class=\"col_heading level0 col4\" >fallin’</th>\n",
       "      <th id=\"T_189be_level0_col5\" class=\"col_heading level0 col5\" >dry</th>\n",
       "      <th id=\"T_189be_level0_col6\" class=\"col_heading level0 col6\" >side</th>\n",
       "      <th id=\"T_189be_level0_col7\" class=\"col_heading level0 col7\" >ocean</th>\n",
       "      <th id=\"T_189be_level0_col8\" class=\"col_heading level0 col8\" >six</th>\n",
       "      <th id=\"T_189be_level0_col9\" class=\"col_heading level0 col9\" >outside</th>\n",
       "    </tr>\n",
       "  </thead>\n",
       "  <tbody>\n",
       "    <tr>\n",
       "      <th id=\"T_189be_level0_row0\" class=\"row_heading level0 row0\" >cosine_sim</th>\n",
       "      <td id=\"T_189be_row0_col0\" class=\"data row0 col0\" >0.971000</td>\n",
       "      <td id=\"T_189be_row0_col1\" class=\"data row0 col1\" >0.955000</td>\n",
       "      <td id=\"T_189be_row0_col2\" class=\"data row0 col2\" >0.955000</td>\n",
       "      <td id=\"T_189be_row0_col3\" class=\"data row0 col3\" >0.952000</td>\n",
       "      <td id=\"T_189be_row0_col4\" class=\"data row0 col4\" >0.949000</td>\n",
       "      <td id=\"T_189be_row0_col5\" class=\"data row0 col5\" >0.947000</td>\n",
       "      <td id=\"T_189be_row0_col6\" class=\"data row0 col6\" >0.944000</td>\n",
       "      <td id=\"T_189be_row0_col7\" class=\"data row0 col7\" >0.944000</td>\n",
       "      <td id=\"T_189be_row0_col8\" class=\"data row0 col8\" >0.944000</td>\n",
       "      <td id=\"T_189be_row0_col9\" class=\"data row0 col9\" >0.939000</td>\n",
       "    </tr>\n",
       "  </tbody>\n",
       "</table>\n"
      ],
      "text/plain": [
       "<pandas.io.formats.style.Styler at 0x31adf1c10>"
      ]
     },
     "metadata": {},
     "output_type": "display_data"
    },
    {
     "name": "stdout",
     "output_type": "stream",
     "text": [
      "\n"
     ]
    }
   ],
   "source": [
    "def show_similarity_frames_combined(model, terms, topn=10, precision=3):\n",
    "    frames = {}\n",
    "\n",
    "    sims = safe_most_similar(model, positive=terms, topn=topn)\n",
    "    words = [w for w, s in sims]\n",
    "    scores = [s for w, s in sims]\n",
    "    df = pd.DataFrame([scores], index=[\"cosine_sim\"], columns=words).round(precision)\n",
    "    terms_str = \" + \".join(map(str, terms))\n",
    "    frames[terms_str] = df\n",
    "    \n",
    "    display(df.style.set_caption(f\"Vecinos de: {terms_str}\").background_gradient(axis=None, cmap=\"YlGnBu\"))\n",
    "    return frames\n",
    "\n",
    "\n",
    "show_similarity_frames_combined(w2v_model,[\"woman\", \"love\", \"man\"])\n",
    "show_similarity_frames_combined(w2v_model,[\"woman\", \"man\"])\n",
    "show_similarity_frames_combined(w2v_model,[\"clouds\",\"water\"])\n",
    "print()"
   ]
  },
  {
   "cell_type": "markdown",
   "id": "286d3a8c",
   "metadata": {},
   "source": [
    "En “woman + love + man” las palabras mas similares tocan temas relacionados a lo comunicativo, afectivo y amoroso: aparecen letter, smile, breath, voice, speaks, chance. La suma de “love” arrastra la combinación hacia lo afectivo y la expresión personal. ghost y unknown son expresiones del pasado, como el amor es algo desconocido o frases poeticas como 'ghost' de un amor.\n",
    "\n",
    "al sacar love, en “woman + man” las palabras que aparecen son similares pero de menor similitud. Se nota que al quitar love se remueve un poco del contenido romantico y esto demuestra que el vector efectivamente capta el significado semantico de la palabra.\n",
    "\n",
    "Se intento a lo ultimo con “clouds + water”, de alguna manera para formar cosas relacionadas a la lluvia.Puede verse esto en la aparicion de 'storm' entre las mas similares. Palabras que se usan en contextos muy similares tambien aparecen, aunque el contenido semantico no sea tan parecido. esto es debido a que son o palabras comunes o que se utilizan en paralelismos a metaforas, como outside, o everywere, o osea o sea que podira correlacionarse con expresiones mas poeticas o metaforicas del ingles como 'its raining oceans'."
   ]
  },
  {
   "cell_type": "markdown",
   "id": "dc9d5ad1",
   "metadata": {},
   "source": [
    "Grafico el mapa de similitud entre de los terminos elegidos entre si"
   ]
  },
  {
   "cell_type": "code",
   "execution_count": 50,
   "id": "a80ffcf5",
   "metadata": {},
   "outputs": [
    {
     "data": {
      "image/png": "[encoded data removed]",
      "text/plain": [
       "<Figure size 700x600 with 2 Axes>"
      ]
     },
     "metadata": {},
     "output_type": "display_data"
    }
   ],
   "source": [
    "selected = [w for w in terms_to_analyze]\n",
    "if len(selected) >= 2:\n",
    "    mat = np.zeros((len(selected), len(selected)))\n",
    "    for i, wi in enumerate(selected):\n",
    "        for j, wj in enumerate(selected):\n",
    "            if i == j:\n",
    "                mat[i, j] = 1.0\n",
    "            else:\n",
    "                mat[i, j] = w2v_model.wv.similarity(wi, wj)\n",
    "    plt.figure(figsize=(7, 6))\n",
    "    sns.heatmap(pd.DataFrame(mat, index=selected, columns=selected), annot=True, fmt=\".2f\", cmap=\"viridis\")\n",
    "    plt.title(\"Mapa de similitud (coseno) entre términos seleccionados\")\n",
    "    plt.show()"
   ]
  },
  {
   "cell_type": "markdown",
   "id": "b9e7d28a",
   "metadata": {},
   "source": [
    "En las palabras seleccionadas, se pueden distinguir dos núcleos de significado y sentimiento: podriamos identificar un mas moral o reflexivo (truth, night, heart) y otro afectivo (love, woman). Las asociaciones más sólidas son truth–night (0.76), heart–truth (0.71) y, dentro de lo romántico, love–woman (0.67) y love–heart (0.65), que encajan con una tematica romantica comun en canciones en general. Sorprende que algunas parejas que uno creería más cercanas seanmas bajar. love–night cae a 0.36 y woman–man queda en 0.46.\n",
    "Otra cosa sorprendente es que 'man' aparece mas lejos respecto del los terminos afectivos (love–man 0.29, heart–man 0.40), lo que parece indicar que no esta muy ligado a tematicas afectivas en caciones de Bob Dylan."
   ]
  },
  {
   "cell_type": "markdown",
   "id": "35562301",
   "metadata": {},
   "source": [
    "## Visualizo los vectores y sus agrupaciones con t-SNE"
   ]
  },
  {
   "cell_type": "code",
   "execution_count": null,
   "id": "092ef9d2",
   "metadata": {},
   "outputs": [],
   "source": [
    "from sklearn.manifold import TSNE\n",
    "import plotly.express as px\n",
    "\n",
    "def reduce_dimensions(model, num_dimensions=2, max_words=200, random_state=0, perplexity=30):\n",
    "    labels = np.asarray(model.wv.index_to_key)\n",
    "    vectors = np.asarray(model.wv.vectors)\n",
    "\n",
    "    max_words = min(max_words, len(labels))\n",
    "    labels = labels[:max_words]\n",
    "    vectors = vectors[:max_words]\n",
    "\n",
    "    tsne = TSNE(n_components=num_dimensions, random_state=random_state, init=\"pca\", perplexity=min(perplexity, max(5, max_words - 1)))\n",
    "    reduced = tsne.fit_transform(vectors)\n",
    "    return reduced, labels"
   ]
  },
  {
   "cell_type": "code",
   "execution_count": null,
   "id": "5290fc33",
   "metadata": {},
   "outputs": [
    {
     "data": {
      "application/vnd.plotly.v1+json": {
       "config": {
        "plotlyServerURL": "https://plot.ly"
       },
       "data": [
        {
         "hovertemplate": "x=%{x}<br>y=%{y}<br>text=%{text}<extra></extra>",
         "legendgroup": "",
         "marker": {
          "color": "#636efa",
          "size": 6,
          "symbol": "circle"
         },
         "mode": "markers+text",
         "name": "",
         "orientation": "v",
         "showlegend": false,
         "text": [
          "the",
          "you",
          "i",
          "to",
          "and",
          "a",
          "in",
          "of",
          "my",
          "me",
          "it",
          "your",
          "on",
          "that",
          "is",
          "i’m",
          "be",
          "for",
          "but",
          "all",
          "with",
          "they",
          "he",
          "no",
          "like",
          "just",
          "when",
          "was",
          "can",
          "well",
          "she",
          "don’t",
          "out",
          "know",
          "are",
          "so",
          "gonna",
          "up",
          "got",
          "down",
          "it’s",
          "from",
          "what",
          "his",
          "have",
          "one",
          "not",
          "now",
          "see",
          "if",
          "do",
          "love",
          "oh",
          "there",
          "her",
          "you’re",
          "as",
          "say",
          "or",
          "at",
          "man",
          "get",
          "go",
          "been",
          "this",
          "ain’t",
          "where",
          "come",
          "by",
          "time",
          "too",
          "who",
          "can’t",
          "him",
          "we",
          "back",
          "how",
          "here",
          "there’s",
          "never",
          "did",
          "more",
          "could",
          "want",
          "some",
          "i’ll",
          "way",
          "then",
          "said",
          "may",
          "through",
          "still",
          "make",
          "them",
          "day",
          "will",
          "tell",
          "let",
          "into",
          "heart",
          "i’ve",
          "long",
          "night",
          "”",
          "only",
          "wiggle",
          "feel",
          "things",
          "think",
          "around",
          "hear",
          "people",
          "eyes",
          "god",
          "he’s",
          "light",
          "need",
          "hard",
          "good",
          "must",
          "would",
          "baby",
          "yes",
          "right",
          "world",
          "i'm",
          "has",
          "going",
          "about",
          "any",
          "even",
          "look",
          "had",
          "their",
          "take",
          "an",
          "before",
          "every",
          "always",
          "won’t",
          "door",
          "mind",
          "were",
          "broken",
          "knows",
          "away",
          "new",
          "high",
          "face",
          "much",
          "give",
          "ever",
          "off",
          "last",
          "true",
          "an’",
          "they’re",
          "gone",
          "she’s",
          "little",
          "inside",
          "somebody",
          "many",
          "while",
          "says",
          "really",
          "hand",
          "might",
          "road",
          "keep",
          "dee",
          "again",
          "nothing",
          "old",
          "believe",
          "these",
          "place",
          "call",
          "why",
          "woman",
          "over",
          "town",
          "alone",
          "though",
          "turn",
          "something",
          "young",
          "left",
          "don't",
          "blue",
          "morning",
          "everything",
          "mama",
          "wake",
          "stone",
          "sun",
          "best",
          "head",
          "lord",
          "other"
         ],
         "type": "scatter",
         "x": {
          "bdata": "L5i8wAOeqkDkxp1AdG4PQXtfj7/NfNm/WkMuwMpW1cB3du7ASqLEQIIzQkBl1/DAD+xuwJmWC0CYttO/0uQiwOi3cUAIwHc/rXUjQByXMzzQppzApkHwQJhDy0DMezlAze9vPntFd0A062LA5MGivWDKz0DNz5u/IgrNQC3Pn0DcfUHAL1FhQGWkJsC6ep1ALR0TwC4AacAeZJM/BFkuwKyNgj+OxJXAnmaIQPGU5cDaEQxBbMe4PwvPMUBma5Y/G+lrP3bGOkAUfoRAnGcBQGqSqUA6YvM/BrW/wA38dD4nUFjAiEOMQD5+n0A+K7jAISUgvwU2O8Ab/WM+cJD9Pu5wf0AmYv0/63+5P/LlWj62haLAt+KCvsobn0CEmqdAvwujP9a98kDsBN5AqEGSvw+gpkAZjw5ASEIQP3osyUBaeAFBBOELQA8cukBfco1AbwscQFJaLEDpERDA7ciiQD4MCcCmj5pARJtpwCqjkcDq9ANAIDfcQDQMm75o2L1Apq0WQEvuFj8x8mrAuTyKwM9tTr+417C/VCmYv21M/b+2oVFAOo22vhVlOkDKNuNAhvxPQLrzXsDpWcw/OYpQQI5ljsDLd6BAMrnpPiIbvsDrRPg/mgiGPwwlekAy0sNAJPq5QMiu2b/37AdBXSFzPjhcub+GvxPAc2Fiv5Qi0L+Z0sU/scpPQOWUUUC9wGXAo+yOP8nq0r/Nee8/F0Mhv6fFWz/hB0e/yfyBQLdQjj/kvJLAOAFmwB9Wij41WI/AOzyIQKDVjcCjvc3AA4SjwC7Ig8C5AIVAKeW8v9tMXUAiv9C/2yQmv0YNJUAJBKo/7x/wvz9CxL/U/jA+K5rHvrhKLMBv9AlBOHxvQFzebr/P/zTAaXOeQOYFhMBUvpBAZaoUwPrCG8ATuEvALI4Kvwn+L0DuxIq/MxJbQKw5yb8bSsM/c+18QBnkc0DGJ3NA7JsBwHi+O8BgLZa8K7rlPxLyhT/qujpA4XRbwAy3mj8r6o9AHRNOwBB2zcB2WeI/1bunQJ2ybcDjAqpA3fjSvwOSN8Ch2nfAbhmKQF0dlT8=",
          "dtype": "f4"
         },
         "xaxis": "x",
         "y": {
          "bdata": "ujxivkCDor8ubR+/PBfDvzEAg789paVAiKpjvv1IWL/fVLM/VIapP7LAjsCmGLM/sZbov4/A+77ghWxAiaYoQOcFpsC0apNAW1KPv1/uVL8TL30/3/UsP3YVUkAeqRNAwiIawNzHwj/SJW3A3hMsQCEtlMCX6M2/g7hVQE1F4L+XigrAX0YYwFN7gUANwMxAFCSJwBdCZMAKA9Y/bz24vw1710C+66W/L3yRv8+XsT8m00/AeG5EQKE027/NzJK+JpR3wGgee78N+gjARFeUwCKP6cCyMhpAUfSIPy/Yl0CzUUxASUzhPXUQosCv1TBAbAO+QKJfDUCTjKvARX4HPyM6+MA+vm9AltOwv+IunMBckhDAdTBCP8NQy0CkLzJAVXDKwELAJz/KJMm/JgJxwCHRxUChp4s/eRlcQLECbL/aZ6K9UPpGQBvpPsCuUDDAhayeQCw5zsDujAzATRHjPnXE28DavqXAQoSav8VMGEBHglTA1HuCPjbnUT+xeW3A2740wIDzxcDCei2/wXnWP2EaeUDNDy9A5KIRPlZN38Arxf68DOImwHAdWMBt18G/OTwxwAouPMBhdjvA6SGQQFycbj67/StAQuqFQGMBBcB4r4rA7QfZQJ9fVr/KQHfAp48zwILnMMBwhkfAHd65v6WT1T7a9dw/Zq9lQKy90r/Ih6u+YpsFP1tMBMDUWJ0/YPlTP6YqYD+Xkj7AQzXqP2Bz57/wXvg/Pe92wFCLy8AnELO+96/iPkiQxT8D3nRA6DkcQIdnn78LMo3As1AUwDowCD/OnYhAQBjPwESJPD0eQwe/uQTWPEU1eMCjn5I/SRrWPnqbFz+r6wZAkgklQPsGZj8/GkvAXACQQMtF/b4038/A3682wBeoST6+kIPApKI2v0Y86T8+Ps/AvA2EwE5v/T+UYtg/LEMGwPWGnj8iHgZArtWSwCbfzr/o6/E/ElpLv7NVdr8raEC/SMfTv0YET8CCTBw/EHafQKVTlD9kVtG/XXtBvxIgjcAYdFU/EknpwAMihMAKT1M/+WazvNC8aj7CGQ8++m2EwNKEN0A=",
          "dtype": "f4"
         },
         "yaxis": "y"
        }
       ],
       "layout": {
        "legend": {
         "tracegroupgap": 0
        },
        "template": {
         "data": {
          "bar": [
           {
            "error_x": {
             "color": "#2a3f5f"
            },
            "error_y": {
             "color": "#2a3f5f"
            },
            "marker": {
             "line": {
              "color": "#E5ECF6",
              "width": 0.5
             },
             "pattern": {
              "fillmode": "overlay",
              "size": 10,
              "solidity": 0.2
             }
            },
            "type": "bar"
           }
          ],
          "barpolar": [
           {
            "marker": {
             "line": {
              "color": "#E5ECF6",
              "width": 0.5
             },
             "pattern": {
              "fillmode": "overlay",
              "size": 10,
              "solidity": 0.2
             }
            },
            "type": "barpolar"
           }
          ],
          "carpet": [
           {
            "aaxis": {
             "endlinecolor": "#2a3f5f",
             "gridcolor": "white",
             "linecolor": "white",
             "minorgridcolor": "white",
             "startlinecolor": "#2a3f5f"
            },
            "baxis": {
             "endlinecolor": "#2a3f5f",
             "gridcolor": "white",
             "linecolor": "white",
             "minorgridcolor": "white",
             "startlinecolor": "#2a3f5f"
            },
            "type": "carpet"
           }
          ],
          "choropleth": [
           {
            "colorbar": {
             "outlinewidth": 0,
             "ticks": ""
            },
            "type": "choropleth"
           }
          ],
          "contour": [
           {
            "colorbar": {
             "outlinewidth": 0,
             "ticks": ""
            },
            "colorscale": [
             [
              0,
              "#0d0887"
             ],
             [
              0.1111111111111111,
              "#46039f"
             ],
             [
              0.2222222222222222,
              "#7201a8"
             ],
             [
              0.3333333333333333,
              "#9c179e"
             ],
             [
              0.4444444444444444,
              "#bd3786"
             ],
             [
              0.5555555555555556,
              "#d8576b"
             ],
             [
              0.6666666666666666,
              "#ed7953"
             ],
             [
              0.7777777777777778,
              "#fb9f3a"
             ],
             [
              0.8888888888888888,
              "#fdca26"
             ],
             [
              1,
              "#f0f921"
             ]
            ],
            "type": "contour"
           }
          ],
          "contourcarpet": [
           {
            "colorbar": {
             "outlinewidth": 0,
             "ticks": ""
            },
            "type": "contourcarpet"
           }
          ],
          "heatmap": [
           {
            "colorbar": {
             "outlinewidth": 0,
             "ticks": ""
            },
            "colorscale": [
             [
              0,
              "#0d0887"
             ],
             [
              0.1111111111111111,
              "#46039f"
             ],
             [
              0.2222222222222222,
              "#7201a8"
             ],
             [
              0.3333333333333333,
              "#9c179e"
             ],
             [
              0.4444444444444444,
              "#bd3786"
             ],
             [
              0.5555555555555556,
              "#d8576b"
             ],
             [
              0.6666666666666666,
              "#ed7953"
             ],
             [
              0.7777777777777778,
              "#fb9f3a"
             ],
             [
              0.8888888888888888,
              "#fdca26"
             ],
             [
              1,
              "#f0f921"
             ]
            ],
            "type": "heatmap"
           }
          ],
          "histogram": [
           {
            "marker": {
             "pattern": {
              "fillmode": "overlay",
              "size": 10,
              "solidity": 0.2
             }
            },
            "type": "histogram"
           }
          ],
          "histogram2d": [
           {
            "colorbar": {
             "outlinewidth": 0,
             "ticks": ""
            },
            "colorscale": [
             [
              0,
              "#0d0887"
             ],
             [
              0.1111111111111111,
              "#46039f"
             ],
             [
              0.2222222222222222,
              "#7201a8"
             ],
             [
              0.3333333333333333,
              "#9c179e"
             ],
             [
              0.4444444444444444,
              "#bd3786"
             ],
             [
              0.5555555555555556,
              "#d8576b"
             ],
             [
              0.6666666666666666,
              "#ed7953"
             ],
             [
              0.7777777777777778,
              "#fb9f3a"
             ],
             [
              0.8888888888888888,
              "#fdca26"
             ],
             [
              1,
              "#f0f921"
             ]
            ],
            "type": "histogram2d"
           }
          ],
          "histogram2dcontour": [
           {
            "colorbar": {
             "outlinewidth": 0,
             "ticks": ""
            },
            "colorscale": [
             [
              0,
              "#0d0887"
             ],
             [
              0.1111111111111111,
              "#46039f"
             ],
             [
              0.2222222222222222,
              "#7201a8"
             ],
             [
              0.3333333333333333,
              "#9c179e"
             ],
             [
              0.4444444444444444,
              "#bd3786"
             ],
             [
              0.5555555555555556,
              "#d8576b"
             ],
             [
              0.6666666666666666,
              "#ed7953"
             ],
             [
              0.7777777777777778,
              "#fb9f3a"
             ],
             [
              0.8888888888888888,
              "#fdca26"
             ],
             [
              1,
              "#f0f921"
             ]
            ],
            "type": "histogram2dcontour"
           }
          ],
          "mesh3d": [
           {
            "colorbar": {
             "outlinewidth": 0,
             "ticks": ""
            },
            "type": "mesh3d"
           }
          ],
          "parcoords": [
           {
            "line": {
             "colorbar": {
              "outlinewidth": 0,
              "ticks": ""
             }
            },
            "type": "parcoords"
           }
          ],
          "pie": [
           {
            "automargin": true,
            "type": "pie"
           }
          ],
          "scatter": [
           {
            "fillpattern": {
             "fillmode": "overlay",
             "size": 10,
             "solidity": 0.2
            },
            "type": "scatter"
           }
          ],
          "scatter3d": [
           {
            "line": {
             "colorbar": {
              "outlinewidth": 0,
              "ticks": ""
             }
            },
            "marker": {
             "colorbar": {
              "outlinewidth": 0,
              "ticks": ""
             }
            },
            "type": "scatter3d"
           }
          ],
          "scattercarpet": [
           {
            "marker": {
             "colorbar": {
              "outlinewidth": 0,
              "ticks": ""
             }
            },
            "type": "scattercarpet"
           }
          ],
          "scattergeo": [
           {
            "marker": {
             "colorbar": {
              "outlinewidth": 0,
              "ticks": ""
             }
            },
            "type": "scattergeo"
           }
          ],
          "scattergl": [
           {
            "marker": {
             "colorbar": {
              "outlinewidth": 0,
              "ticks": ""
             }
            },
            "type": "scattergl"
           }
          ],
          "scattermap": [
           {
            "marker": {
             "colorbar": {
              "outlinewidth": 0,
              "ticks": ""
             }
            },
            "type": "scattermap"
           }
          ],
          "scattermapbox": [
           {
            "marker": {
             "colorbar": {
              "outlinewidth": 0,
              "ticks": ""
             }
            },
            "type": "scattermapbox"
           }
          ],
          "scatterpolar": [
           {
            "marker": {
             "colorbar": {
              "outlinewidth": 0,
              "ticks": ""
             }
            },
            "type": "scatterpolar"
           }
          ],
          "scatterpolargl": [
           {
            "marker": {
             "colorbar": {
              "outlinewidth": 0,
              "ticks": ""
             }
            },
            "type": "scatterpolargl"
           }
          ],
          "scatterternary": [
           {
            "marker": {
             "colorbar": {
              "outlinewidth": 0,
              "ticks": ""
             }
            },
            "type": "scatterternary"
           }
          ],
          "surface": [
           {
            "colorbar": {
             "outlinewidth": 0,
             "ticks": ""
            },
            "colorscale": [
             [
              0,
              "#0d0887"
             ],
             [
              0.1111111111111111,
              "#46039f"
             ],
             [
              0.2222222222222222,
              "#7201a8"
             ],
             [
              0.3333333333333333,
              "#9c179e"
             ],
             [
              0.4444444444444444,
              "#bd3786"
             ],
             [
              0.5555555555555556,
              "#d8576b"
             ],
             [
              0.6666666666666666,
              "#ed7953"
             ],
             [
              0.7777777777777778,
              "#fb9f3a"
             ],
             [
              0.8888888888888888,
              "#fdca26"
             ],
             [
              1,
              "#f0f921"
             ]
            ],
            "type": "surface"
           }
          ],
          "table": [
           {
            "cells": {
             "fill": {
              "color": "#EBF0F8"
             },
             "line": {
              "color": "white"
             }
            },
            "header": {
             "fill": {
              "color": "#C8D4E3"
             },
             "line": {
              "color": "white"
             }
            },
            "type": "table"
           }
          ]
         },
         "layout": {
          "annotationdefaults": {
           "arrowcolor": "#2a3f5f",
           "arrowhead": 0,
           "arrowwidth": 1
          },
          "autotypenumbers": "strict",
          "coloraxis": {
           "colorbar": {
            "outlinewidth": 0,
            "ticks": ""
           }
          },
          "colorscale": {
           "diverging": [
            [
             0,
             "#8e0152"
            ],
            [
             0.1,
             "#c51b7d"
            ],
            [
             0.2,
             "#de77ae"
            ],
            [
             0.3,
             "#f1b6da"
            ],
            [
             0.4,
             "#fde0ef"
            ],
            [
             0.5,
             "#f7f7f7"
            ],
            [
             0.6,
             "#e6f5d0"
            ],
            [
             0.7,
             "#b8e186"
            ],
            [
             0.8,
             "#7fbc41"
            ],
            [
             0.9,
             "#4d9221"
            ],
            [
             1,
             "#276419"
            ]
           ],
           "sequential": [
            [
             0,
             "#0d0887"
            ],
            [
             0.1111111111111111,
             "#46039f"
            ],
            [
             0.2222222222222222,
             "#7201a8"
            ],
            [
             0.3333333333333333,
             "#9c179e"
            ],
            [
             0.4444444444444444,
             "#bd3786"
            ],
            [
             0.5555555555555556,
             "#d8576b"
            ],
            [
             0.6666666666666666,
             "#ed7953"
            ],
            [
             0.7777777777777778,
             "#fb9f3a"
            ],
            [
             0.8888888888888888,
             "#fdca26"
            ],
            [
             1,
             "#f0f921"
            ]
           ],
           "sequentialminus": [
            [
             0,
             "#0d0887"
            ],
            [
             0.1111111111111111,
             "#46039f"
            ],
            [
             0.2222222222222222,
             "#7201a8"
            ],
            [
             0.3333333333333333,
             "#9c179e"
            ],
            [
             0.4444444444444444,
             "#bd3786"
            ],
            [
             0.5555555555555556,
             "#d8576b"
            ],
            [
             0.6666666666666666,
             "#ed7953"
            ],
            [
             0.7777777777777778,
             "#fb9f3a"
            ],
            [
             0.8888888888888888,
             "#fdca26"
            ],
            [
             1,
             "#f0f921"
            ]
           ]
          },
          "colorway": [
           "#636efa",
           "#EF553B",
           "#00cc96",
           "#ab63fa",
           "#FFA15A",
           "#19d3f3",
           "#FF6692",
           "#B6E880",
           "#FF97FF",
           "#FECB52"
          ],
          "font": {
           "color": "#2a3f5f"
          },
          "geo": {
           "bgcolor": "white",
           "lakecolor": "white",
           "landcolor": "#E5ECF6",
           "showlakes": true,
           "showland": true,
           "subunitcolor": "white"
          },
          "hoverlabel": {
           "align": "left"
          },
          "hovermode": "closest",
          "mapbox": {
           "style": "light"
          },
          "paper_bgcolor": "white",
          "plot_bgcolor": "#E5ECF6",
          "polar": {
           "angularaxis": {
            "gridcolor": "white",
            "linecolor": "white",
            "ticks": ""
           },
           "bgcolor": "#E5ECF6",
           "radialaxis": {
            "gridcolor": "white",
            "linecolor": "white",
            "ticks": ""
           }
          },
          "scene": {
           "xaxis": {
            "backgroundcolor": "#E5ECF6",
            "gridcolor": "white",
            "gridwidth": 2,
            "linecolor": "white",
            "showbackground": true,
            "ticks": "",
            "zerolinecolor": "white"
           },
           "yaxis": {
            "backgroundcolor": "#E5ECF6",
            "gridcolor": "white",
            "gridwidth": 2,
            "linecolor": "white",
            "showbackground": true,
            "ticks": "",
            "zerolinecolor": "white"
           },
           "zaxis": {
            "backgroundcolor": "#E5ECF6",
            "gridcolor": "white",
            "gridwidth": 2,
            "linecolor": "white",
            "showbackground": true,
            "ticks": "",
            "zerolinecolor": "white"
           }
          },
          "shapedefaults": {
           "line": {
            "color": "#2a3f5f"
           }
          },
          "ternary": {
           "aaxis": {
            "gridcolor": "white",
            "linecolor": "white",
            "ticks": ""
           },
           "baxis": {
            "gridcolor": "white",
            "linecolor": "white",
            "ticks": ""
           },
           "bgcolor": "#E5ECF6",
           "caxis": {
            "gridcolor": "white",
            "linecolor": "white",
            "ticks": ""
           }
          },
          "title": {
           "x": 0.05
          },
          "xaxis": {
           "automargin": true,
           "gridcolor": "white",
           "linecolor": "white",
           "ticks": "",
           "title": {
            "standoff": 15
           },
           "zerolinecolor": "white",
           "zerolinewidth": 2
          },
          "yaxis": {
           "automargin": true,
           "gridcolor": "white",
           "linecolor": "white",
           "ticks": "",
           "title": {
            "standoff": 15
           },
           "zerolinecolor": "white",
           "zerolinewidth": 2
          }
         }
        },
        "title": {
         "text": "TSNE 2D"
        },
        "xaxis": {
         "anchor": "y",
         "domain": [
          0,
          1
         ],
         "title": {
          "text": "x"
         }
        },
        "yaxis": {
         "anchor": "x",
         "domain": [
          0,
          1
         ],
         "title": {
          "text": "y"
         }
        }
       }
      }
     },
     "metadata": {},
     "output_type": "display_data"
    }
   ],
   "source": [
    "vecs2, labels2 = reduce_dimensions(w2v_model, num_dimensions=2, max_words=200)\n",
    "fig2 = px.scatter(x=vecs2[:, 0], y=vecs2[:, 1], text=labels2, title=\"TSNE 2D\")\n",
    "fig2.update_traces(marker_size=6)\n",
    "fig2.show()"
   ]
  },
  {
   "cell_type": "code",
   "execution_count": null,
   "id": "36d3272e",
   "metadata": {},
   "outputs": [
    {
     "data": {
      "application/vnd.plotly.v1+json": {
       "config": {
        "plotlyServerURL": "https://plot.ly"
       },
       "data": [
        {
         "hovertemplate": "x=%{x}<br>y=%{y}<br>z=%{z}<br>text=%{text}<extra></extra>",
         "legendgroup": "",
         "marker": {
          "color": "#636efa",
          "size": 2,
          "symbol": "circle"
         },
         "mode": "markers+text",
         "name": "",
         "scene": "scene",
         "showlegend": false,
         "text": [
          "the",
          "you",
          "i",
          "to",
          "and",
          "a",
          "in",
          "of",
          "my",
          "me",
          "it",
          "your",
          "on",
          "that",
          "is",
          "i’m",
          "be",
          "for",
          "but",
          "all",
          "with",
          "they",
          "he",
          "no",
          "like",
          "just",
          "when",
          "was",
          "can",
          "well",
          "she",
          "don’t",
          "out",
          "know",
          "are",
          "so",
          "gonna",
          "up",
          "got",
          "down",
          "it’s",
          "from",
          "what",
          "his",
          "have",
          "one",
          "not",
          "now",
          "see",
          "if",
          "do",
          "love",
          "oh",
          "there",
          "her",
          "you’re",
          "as",
          "say",
          "or",
          "at",
          "man",
          "get",
          "go",
          "been",
          "this",
          "ain’t",
          "where",
          "come",
          "by",
          "time",
          "too",
          "who",
          "can’t",
          "him",
          "we",
          "back",
          "how",
          "here",
          "there’s",
          "never",
          "did",
          "more",
          "could",
          "want",
          "some",
          "i’ll",
          "way",
          "then",
          "said",
          "may",
          "through",
          "still",
          "make",
          "them",
          "day",
          "will",
          "tell",
          "let",
          "into",
          "heart",
          "i’ve",
          "long",
          "night",
          "”",
          "only",
          "wiggle",
          "feel",
          "things",
          "think",
          "around",
          "hear",
          "people",
          "eyes",
          "god",
          "he’s",
          "light",
          "need",
          "hard",
          "good",
          "must",
          "would",
          "baby",
          "yes",
          "right",
          "world",
          "i'm",
          "has",
          "going",
          "about",
          "any",
          "even",
          "look",
          "had",
          "their",
          "take",
          "an",
          "before",
          "every",
          "always",
          "won’t",
          "door",
          "mind",
          "were",
          "broken",
          "knows",
          "away",
          "new",
          "high",
          "face",
          "much",
          "give",
          "ever",
          "off",
          "last",
          "true",
          "an’",
          "they’re",
          "gone",
          "she’s",
          "little",
          "inside",
          "somebody",
          "many",
          "while",
          "says",
          "really",
          "hand",
          "might",
          "road",
          "keep",
          "dee",
          "again",
          "nothing",
          "old",
          "believe",
          "these",
          "place",
          "call",
          "why",
          "woman",
          "over",
          "town",
          "alone",
          "though",
          "turn",
          "something",
          "young",
          "left",
          "don't",
          "blue",
          "morning",
          "everything",
          "mama",
          "wake",
          "stone",
          "sun",
          "best",
          "head",
          "lord",
          "other"
         ],
         "type": "scatter3d",
         "x": {
          "bdata": "zOJ0Qg5yi8L58VLCQQXGwkY43cFWK4HBlnThQfvCk0IoZeXBZs2qwg4zLUK7tiXCfMalQfM6xsEBlXhCtDqkQi9jRkIg36TBh0GVwavIDUJhN3fBAzFMQo2dlsIFyy1BQLA0wQ2yGcL2kj/Cjrf2QSSwQ8L804JCJ3aGwjcObMK9fw7Avxf6wLL9aEJh6GtC69mPwqc3LMIXgJHBJ6onwXXNEsKvXKlB+26BwnxsL0Lk5YjC/fKjQRu9okKSCabAP4S9wZv9/sHNi97B3SGcQMpOlsKb4pNBRrWYQNDeZMJ3VzhCvjYswuHnM0J36XpBbuesQgQWg0KyZzfCMbOAQh/8jUI0zzBCqhU9QlTM0sF9s/fAufLpQZRshUIjZ37CEXRfwniBI0KAsYDBoezwwZE55EHEnAnBiS6iQULW2cE3A7tB3dj2QWxnBcEeeQHCg5qMQjrItMKaTYzA/659wq50EcJUxB9Cy210QJFyqkJnNr9B6jgqwJ/2NkEZINxAVQ3QwAjyW8IiAENBJZWJQQ6l70HIIMTCu1CDQPkzTMIhtPXBCgD8P0pBSUFecdXB+PZHQDL38MGkCIVB/6JlQuugGELfKlDCcdcHwizi+8CYAUdAuqonwtSrJcKdG3FB4+TNwa7MjME9y43CCzkKQsl/HkKtcH5ChBPrQd7dWUJS9UNB/g+jPynzfMFIdvpBNS9swQbb/0HeYttA64o3v5Q2Y0EKIIpBVrbjQSALY8JYeihC8HiEv3o/F0K9jX5C1cUYwgsFX0KekRPCoY45wEg5kkG3BV7C3D5Uwpo83kHrdxxBrzOSwKbnXUCRGy/AZnFPQfct/kEac4JAwH8ivbPcXkKIu47CBP+RQoFkUkGGMJXBHNAMwqB+rkGe2qBBOBhiQYsCMEJczl3BywDRwbxDkkCT+N5BlAHgwV8SRUIXyAhCPIr+QVWwLMJkfgzCVpNhwboczEFlWgxCu566QX3IoMD89THB00LAQtK9RcB0SyfCDZEoQM0qI8K8xGfBdBp6wgcQgMIJ1InCUfSMQd613j/vbd9Bu3mnQWY81UE=",
          "dtype": "f4"
         },
         "y": {
          "bdata": "RIg6QoXEjUEg9vlBDk8VwZqaFr5pbNFBBIBWwpF0D8Jsc2fCxXH0QZvJjEJQQHrC9EdIwFpez0EzIovCsI1jwLcrBMJmOpNCWVn8QV/nAULuAYnC19KQwhkqHEK535dCrU+oQUkWFkLwRpbBNv+lwk0FL8Ic4lNBI25aQj7czcCtMH/CQAgRwnPD4cE2YwhCwYxewd2rCMIf86VBuwj/wBiSZkII95bClU6ewWn6MMJwcQhBlJouQrmDUcJEEW9C9R0+wuofGUK5Tk3CF5mXwohnGsJbH6VCY1AJwvPFYkJ5nJFA6jgqP9lhv8F1IL9BeDvpQaphQcFsQp3CGqj9wd+EXUJD74pCfoXBQbrKkMKnUQfCAO2jQWKtPkIqdKlBvf5HwsnSp8JVVI3BSI44wnGGgUL5+5FC0Jt4QkUhmUCaHcTCUz5TQhrm8770aNHB62wCwCh7VMBOpDdCh5ltwGjXlEJk7zjCbgwHwotc7EEE+abBxrlywXLErUHdXXpBmo4nwiaXhsJCly3CKhxqwtpBVELb37FB7E+CQBo5jkJ030dCeKy1Qno69sCTRY3B7ebQwSLtpMHSXz/CdPKkv5O1TsL1CYlBjNFsQtIW+L90a4zCOq8kQpOuVUFz0JNB2+uSP/vi1cHz0upB3vZCQgvfL8HlZUNA61pCQlC820GvW19B1O5EQkAPAsG5JgbC0fnWQOZMAcEKT9LBiVHCQWznpsLqZNFBLME1wkNcQ8KXCUPBnwBRwvxtJMHWga5A9GvtQdmriUEE953AAJ9Uwd28IsK02+dBtnKfQlJv/cGe43NAYyyXwMCvIMAMbelB+vgPQg1ksEByBB5C195AQulB08GLA1VBPam0QFX53sCyup1C1ti/wZDZRsLGZizBW9DPwMs9gMDqnMJC7cN3wsubZkKXRXVBHC2mwXOoDcHGbYpC/E3cwc3RJ8EMJCdC6hAIwrh7wMGflMtB8gndQBLQLMJnoUNCCN5fwZ/pp0EyLa7A7oGqwSPmnMGyYjhCymIQwmhSFcLloCvBI3a6wLcyt8EP3PrBRus6wtdv+0E=",
          "dtype": "f4"
         },
         "z": {
          "bdata": "IPNNQs3oT8IPz4fCvhhkwEjE2EHep1RCQPl+QkEW8EF5i4JCKojuwWpkGMJ562FCEbOjQoeZmsHlWRhCph4dQvvgQcKk+RFCVh+CwkivbMJQctdBk/pMwZUyYkA+xShBVIwUwuu0C0BFWctBVtBnwmu2NsLMAWnCtSIuvzLhcMLa0VJCpr+Nwvh4MsG9nw7CzrIzQt0lEkItzH5BrzBeQjQ7iUJ1hiNC5wsMwhN9JUKZuI1CXr0kwfsdrcDRo0jC4N3kwbrcR8KEjoLCbebBwXaGfcKvJZLBUB24QSx8HUIKyYTC3I4FwFpoocItobfBcPHxwCnCMcLuI5jBhLKBQjLOrkBBo5xBN5fhwG8X1sGdXqpCLCeEQsXoJ8IGaUVB4KW9wcekS8A/4qXBRMLiQPndgMJi8cTBMpoKQodcrMFiXFfBv98WQYgajsJ3MrHCK8CGQEyKJMLWR5xC1BMvwdGbisCeQp7CPeh9QvsY10GGdBLCEoDAwjqjgEIkWIXC0T0owki1FkBOFzZCP8t5wPoEkkLa+cRBPeEXQkjEVsHfqOjBASo3QgI/SMI2i6/A7Q9gwihNKUK5rerBWHRiwZXnXUFIw85BXGgpQtx+xULzQUDCz+WVQvs5LsKA1afCRWyMwkUug0HsSz9Cu58PwgwADULRFu9B+M5ZQmfvskFE9yjCz9fVwcfEM8LoNiDBxQMvwLGSTkGweszBOXEIQg7wHUGYphVCL/5Iwoqv48DIlYFCfcMVQb04ZMGRxZhCINEXQqkXS0JgfJVCJ2CcQkPw70CxGr/BMnVEQZ6urUJ4zRBB3Gi6QX1M0MFQ5NJAa50zwnJKIUJEYaRBl4IrQrt/lkGQHlhCb4m3wfaqusCTN4hAuIqCwoE6xkG9IZXC0DZXQqZOLMJWPbJAGGuOwM/ic0D2oJ9BNEklwlqBw0DM8N3ASkxywjdx68G6QaZBPFc5QijfU0JBuRXCvwEjwYnYlcGiMxTBEofRP+cDCsEv8lTCcCIkQi5KlUIZbklBJSWRwmII8kG89AhBLEXkQVjxE0BcxbBBFauDwjbL8UA=",
          "dtype": "f4"
         }
        }
       ],
       "layout": {
        "legend": {
         "tracegroupgap": 0
        },
        "scene": {
         "domain": {
          "x": [
           0,
           1
          ],
          "y": [
           0,
           1
          ]
         },
         "xaxis": {
          "title": {
           "text": "x"
          }
         },
         "yaxis": {
          "title": {
           "text": "y"
          }
         },
         "zaxis": {
          "title": {
           "text": "z"
          }
         }
        },
        "template": {
         "data": {
          "bar": [
           {
            "error_x": {
             "color": "#2a3f5f"
            },
            "error_y": {
             "color": "#2a3f5f"
            },
            "marker": {
             "line": {
              "color": "#E5ECF6",
              "width": 0.5
             },
             "pattern": {
              "fillmode": "overlay",
              "size": 10,
              "solidity": 0.2
             }
            },
            "type": "bar"
           }
          ],
          "barpolar": [
           {
            "marker": {
             "line": {
              "color": "#E5ECF6",
              "width": 0.5
             },
             "pattern": {
              "fillmode": "overlay",
              "size": 10,
              "solidity": 0.2
             }
            },
            "type": "barpolar"
           }
          ],
          "carpet": [
           {
            "aaxis": {
             "endlinecolor": "#2a3f5f",
             "gridcolor": "white",
             "linecolor": "white",
             "minorgridcolor": "white",
             "startlinecolor": "#2a3f5f"
            },
            "baxis": {
             "endlinecolor": "#2a3f5f",
             "gridcolor": "white",
             "linecolor": "white",
             "minorgridcolor": "white",
             "startlinecolor": "#2a3f5f"
            },
            "type": "carpet"
           }
          ],
          "choropleth": [
           {
            "colorbar": {
             "outlinewidth": 0,
             "ticks": ""
            },
            "type": "choropleth"
           }
          ],
          "contour": [
           {
            "colorbar": {
             "outlinewidth": 0,
             "ticks": ""
            },
            "colorscale": [
             [
              0,
              "#0d0887"
             ],
             [
              0.1111111111111111,
              "#46039f"
             ],
             [
              0.2222222222222222,
              "#7201a8"
             ],
             [
              0.3333333333333333,
              "#9c179e"
             ],
             [
              0.4444444444444444,
              "#bd3786"
             ],
             [
              0.5555555555555556,
              "#d8576b"
             ],
             [
              0.6666666666666666,
              "#ed7953"
             ],
             [
              0.7777777777777778,
              "#fb9f3a"
             ],
             [
              0.8888888888888888,
              "#fdca26"
             ],
             [
              1,
              "#f0f921"
             ]
            ],
            "type": "contour"
           }
          ],
          "contourcarpet": [
           {
            "colorbar": {
             "outlinewidth": 0,
             "ticks": ""
            },
            "type": "contourcarpet"
           }
          ],
          "heatmap": [
           {
            "colorbar": {
             "outlinewidth": 0,
             "ticks": ""
            },
            "colorscale": [
             [
              0,
              "#0d0887"
             ],
             [
              0.1111111111111111,
              "#46039f"
             ],
             [
              0.2222222222222222,
              "#7201a8"
             ],
             [
              0.3333333333333333,
              "#9c179e"
             ],
             [
              0.4444444444444444,
              "#bd3786"
             ],
             [
              0.5555555555555556,
              "#d8576b"
             ],
             [
              0.6666666666666666,
              "#ed7953"
             ],
             [
              0.7777777777777778,
              "#fb9f3a"
             ],
             [
              0.8888888888888888,
              "#fdca26"
             ],
             [
              1,
              "#f0f921"
             ]
            ],
            "type": "heatmap"
           }
          ],
          "histogram": [
           {
            "marker": {
             "pattern": {
              "fillmode": "overlay",
              "size": 10,
              "solidity": 0.2
             }
            },
            "type": "histogram"
           }
          ],
          "histogram2d": [
           {
            "colorbar": {
             "outlinewidth": 0,
             "ticks": ""
            },
            "colorscale": [
             [
              0,
              "#0d0887"
             ],
             [
              0.1111111111111111,
              "#46039f"
             ],
             [
              0.2222222222222222,
              "#7201a8"
             ],
             [
              0.3333333333333333,
              "#9c179e"
             ],
             [
              0.4444444444444444,
              "#bd3786"
             ],
             [
              0.5555555555555556,
              "#d8576b"
             ],
             [
              0.6666666666666666,
              "#ed7953"
             ],
             [
              0.7777777777777778,
              "#fb9f3a"
             ],
             [
              0.8888888888888888,
              "#fdca26"
             ],
             [
              1,
              "#f0f921"
             ]
            ],
            "type": "histogram2d"
           }
          ],
          "histogram2dcontour": [
           {
            "colorbar": {
             "outlinewidth": 0,
             "ticks": ""
            },
            "colorscale": [
             [
              0,
              "#0d0887"
             ],
             [
              0.1111111111111111,
              "#46039f"
             ],
             [
              0.2222222222222222,
              "#7201a8"
             ],
             [
              0.3333333333333333,
              "#9c179e"
             ],
             [
              0.4444444444444444,
              "#bd3786"
             ],
             [
              0.5555555555555556,
              "#d8576b"
             ],
             [
              0.6666666666666666,
              "#ed7953"
             ],
             [
              0.7777777777777778,
              "#fb9f3a"
             ],
             [
              0.8888888888888888,
              "#fdca26"
             ],
             [
              1,
              "#f0f921"
             ]
            ],
            "type": "histogram2dcontour"
           }
          ],
          "mesh3d": [
           {
            "colorbar": {
             "outlinewidth": 0,
             "ticks": ""
            },
            "type": "mesh3d"
           }
          ],
          "parcoords": [
           {
            "line": {
             "colorbar": {
              "outlinewidth": 0,
              "ticks": ""
             }
            },
            "type": "parcoords"
           }
          ],
          "pie": [
           {
            "automargin": true,
            "type": "pie"
           }
          ],
          "scatter": [
           {
            "fillpattern": {
             "fillmode": "overlay",
             "size": 10,
             "solidity": 0.2
            },
            "type": "scatter"
           }
          ],
          "scatter3d": [
           {
            "line": {
             "colorbar": {
              "outlinewidth": 0,
              "ticks": ""
             }
            },
            "marker": {
             "colorbar": {
              "outlinewidth": 0,
              "ticks": ""
             }
            },
            "type": "scatter3d"
           }
          ],
          "scattercarpet": [
           {
            "marker": {
             "colorbar": {
              "outlinewidth": 0,
              "ticks": ""
             }
            },
            "type": "scattercarpet"
           }
          ],
          "scattergeo": [
           {
            "marker": {
             "colorbar": {
              "outlinewidth": 0,
              "ticks": ""
             }
            },
            "type": "scattergeo"
           }
          ],
          "scattergl": [
           {
            "marker": {
             "colorbar": {
              "outlinewidth": 0,
              "ticks": ""
             }
            },
            "type": "scattergl"
           }
          ],
          "scattermap": [
           {
            "marker": {
             "colorbar": {
              "outlinewidth": 0,
              "ticks": ""
             }
            },
            "type": "scattermap"
           }
          ],
          "scattermapbox": [
           {
            "marker": {
             "colorbar": {
              "outlinewidth": 0,
              "ticks": ""
             }
            },
            "type": "scattermapbox"
           }
          ],
          "scatterpolar": [
           {
            "marker": {
             "colorbar": {
              "outlinewidth": 0,
              "ticks": ""
             }
            },
            "type": "scatterpolar"
           }
          ],
          "scatterpolargl": [
           {
            "marker": {
             "colorbar": {
              "outlinewidth": 0,
              "ticks": ""
             }
            },
            "type": "scatterpolargl"
           }
          ],
          "scatterternary": [
           {
            "marker": {
             "colorbar": {
              "outlinewidth": 0,
              "ticks": ""
             }
            },
            "type": "scatterternary"
           }
          ],
          "surface": [
           {
            "colorbar": {
             "outlinewidth": 0,
             "ticks": ""
            },
            "colorscale": [
             [
              0,
              "#0d0887"
             ],
             [
              0.1111111111111111,
              "#46039f"
             ],
             [
              0.2222222222222222,
              "#7201a8"
             ],
             [
              0.3333333333333333,
              "#9c179e"
             ],
             [
              0.4444444444444444,
              "#bd3786"
             ],
             [
              0.5555555555555556,
              "#d8576b"
             ],
             [
              0.6666666666666666,
              "#ed7953"
             ],
             [
              0.7777777777777778,
              "#fb9f3a"
             ],
             [
              0.8888888888888888,
              "#fdca26"
             ],
             [
              1,
              "#f0f921"
             ]
            ],
            "type": "surface"
           }
          ],
          "table": [
           {
            "cells": {
             "fill": {
              "color": "#EBF0F8"
             },
             "line": {
              "color": "white"
             }
            },
            "header": {
             "fill": {
              "color": "#C8D4E3"
             },
             "line": {
              "color": "white"
             }
            },
            "type": "table"
           }
          ]
         },
         "layout": {
          "annotationdefaults": {
           "arrowcolor": "#2a3f5f",
           "arrowhead": 0,
           "arrowwidth": 1
          },
          "autotypenumbers": "strict",
          "coloraxis": {
           "colorbar": {
            "outlinewidth": 0,
            "ticks": ""
           }
          },
          "colorscale": {
           "diverging": [
            [
             0,
             "#8e0152"
            ],
            [
             0.1,
             "#c51b7d"
            ],
            [
             0.2,
             "#de77ae"
            ],
            [
             0.3,
             "#f1b6da"
            ],
            [
             0.4,
             "#fde0ef"
            ],
            [
             0.5,
             "#f7f7f7"
            ],
            [
             0.6,
             "#e6f5d0"
            ],
            [
             0.7,
             "#b8e186"
            ],
            [
             0.8,
             "#7fbc41"
            ],
            [
             0.9,
             "#4d9221"
            ],
            [
             1,
             "#276419"
            ]
           ],
           "sequential": [
            [
             0,
             "#0d0887"
            ],
            [
             0.1111111111111111,
             "#46039f"
            ],
            [
             0.2222222222222222,
             "#7201a8"
            ],
            [
             0.3333333333333333,
             "#9c179e"
            ],
            [
             0.4444444444444444,
             "#bd3786"
            ],
            [
             0.5555555555555556,
             "#d8576b"
            ],
            [
             0.6666666666666666,
             "#ed7953"
            ],
            [
             0.7777777777777778,
             "#fb9f3a"
            ],
            [
             0.8888888888888888,
             "#fdca26"
            ],
            [
             1,
             "#f0f921"
            ]
           ],
           "sequentialminus": [
            [
             0,
             "#0d0887"
            ],
            [
             0.1111111111111111,
             "#46039f"
            ],
            [
             0.2222222222222222,
             "#7201a8"
            ],
            [
             0.3333333333333333,
             "#9c179e"
            ],
            [
             0.4444444444444444,
             "#bd3786"
            ],
            [
             0.5555555555555556,
             "#d8576b"
            ],
            [
             0.6666666666666666,
             "#ed7953"
            ],
            [
             0.7777777777777778,
             "#fb9f3a"
            ],
            [
             0.8888888888888888,
             "#fdca26"
            ],
            [
             1,
             "#f0f921"
            ]
           ]
          },
          "colorway": [
           "#636efa",
           "#EF553B",
           "#00cc96",
           "#ab63fa",
           "#FFA15A",
           "#19d3f3",
           "#FF6692",
           "#B6E880",
           "#FF97FF",
           "#FECB52"
          ],
          "font": {
           "color": "#2a3f5f"
          },
          "geo": {
           "bgcolor": "white",
           "lakecolor": "white",
           "landcolor": "#E5ECF6",
           "showlakes": true,
           "showland": true,
           "subunitcolor": "white"
          },
          "hoverlabel": {
           "align": "left"
          },
          "hovermode": "closest",
          "mapbox": {
           "style": "light"
          },
          "paper_bgcolor": "white",
          "plot_bgcolor": "#E5ECF6",
          "polar": {
           "angularaxis": {
            "gridcolor": "white",
            "linecolor": "white",
            "ticks": ""
           },
           "bgcolor": "#E5ECF6",
           "radialaxis": {
            "gridcolor": "white",
            "linecolor": "white",
            "ticks": ""
           }
          },
          "scene": {
           "xaxis": {
            "backgroundcolor": "#E5ECF6",
            "gridcolor": "white",
            "gridwidth": 2,
            "linecolor": "white",
            "showbackground": true,
            "ticks": "",
            "zerolinecolor": "white"
           },
           "yaxis": {
            "backgroundcolor": "#E5ECF6",
            "gridcolor": "white",
            "gridwidth": 2,
            "linecolor": "white",
            "showbackground": true,
            "ticks": "",
            "zerolinecolor": "white"
           },
           "zaxis": {
            "backgroundcolor": "#E5ECF6",
            "gridcolor": "white",
            "gridwidth": 2,
            "linecolor": "white",
            "showbackground": true,
            "ticks": "",
            "zerolinecolor": "white"
           }
          },
          "shapedefaults": {
           "line": {
            "color": "#2a3f5f"
           }
          },
          "ternary": {
           "aaxis": {
            "gridcolor": "white",
            "linecolor": "white",
            "ticks": ""
           },
           "baxis": {
            "gridcolor": "white",
            "linecolor": "white",
            "ticks": ""
           },
           "bgcolor": "#E5ECF6",
           "caxis": {
            "gridcolor": "white",
            "linecolor": "white",
            "ticks": ""
           }
          },
          "title": {
           "x": 0.05
          },
          "xaxis": {
           "automargin": true,
           "gridcolor": "white",
           "linecolor": "white",
           "ticks": "",
           "title": {
            "standoff": 15
           },
           "zerolinecolor": "white",
           "zerolinewidth": 2
          },
          "yaxis": {
           "automargin": true,
           "gridcolor": "white",
           "linecolor": "white",
           "ticks": "",
           "title": {
            "standoff": 15
           },
           "zerolinecolor": "white",
           "zerolinewidth": 2
          }
         }
        },
        "title": {
         "text": "TSNE 3D"
        }
       }
      }
     },
     "metadata": {},
     "output_type": "display_data"
    }
   ],
   "source": [
    "vecs3, labels3 = reduce_dimensions(w2v_model, num_dimensions=3, max_words=200)\n",
    "fig3 = px.scatter_3d(x=vecs3[:, 0], y=vecs3[:, 1], z=vecs3[:, 2], text=labels3, title=\"TSNE 3D\")\n",
    "fig3.update_traces(marker_size=2)\n",
    "fig3.show()"
   ]
  }
 ],
 "metadata": {
  "kernelspec": {
   "display_name": "venv",
   "language": "python",
   "name": "python3"
  },
  "language_info": {
   "codemirror_mode": {
    "name": "ipython",
    "version": 3
   },
   "file_extension": ".py",
   "mimetype": "text/x-python",
   "name": "python",
   "nbconvert_exporter": "python",
   "pygments_lexer": "ipython3",
   "version": "3.9.6"
  }
 },
 "nbformat": 4,
 "nbformat_minor": 5
}
